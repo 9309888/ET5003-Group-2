{
 "cells": [
  {
   "cell_type": "markdown",
   "metadata": {
    "id": "jxK1_8f1dvrc"
   },
   "source": [
    "<div>\n",
    "<img src=\"https://drive.google.com/uc?export=view&id=1vK33e_EqaHgBHcbRV_m38hx6IkG0blK_\" width=\"350\"/>\n",
    "</div> \n",
    "\n",
    "#**Artificial Intelligence - MSc**\n",
    "ET5003 - MACHINE LEARNING APPLICATIONS \n",
    "\n",
    "###Instructor: Enrique Naredo\n",
    "###ET5003_Etivity-1"
   ]
  },
  {
   "cell_type": "code",
   "execution_count": 1,
   "metadata": {
    "cellView": "form",
    "id": "LqXD_IwUQuBF"
   },
   "outputs": [],
   "source": [
    "#@title Current Date\n",
    "Today = '2021-09-18' #@param {type:\"date\"}\n"
   ]
  },
  {
   "cell_type": "code",
   "execution_count": 2,
   "metadata": {
    "cellView": "form",
    "id": "uzDKau31OjVO"
   },
   "outputs": [],
   "source": [
    "#@markdown ---\n",
    "#@markdown ### Enter your details here:\n",
    "Student_ID = \"9309888\" #@param {type:\"string\"}\n",
    "Student_full_name = \"John Hayes\" #@param {type:\"string\"}\n",
    "#@markdown ---"
   ]
  },
  {
   "cell_type": "code",
   "execution_count": 3,
   "metadata": {
    "cellView": "form",
    "id": "r39xGZckTpKx"
   },
   "outputs": [],
   "source": [
    "#@title Notebook information\n",
    "Notebook_type = 'Etivity' #@param [\"Example\", \"Lab\", \"Practice\", \"Etivity\", \"Assignment\", \"Exam\"]\n",
    "Version = 'Final' #@param [\"Draft\", \"Final\"] {type:\"raw\"}\n",
    "Submission = True #@param {type:\"boolean\"}"
   ]
  },
  {
   "cell_type": "markdown",
   "metadata": {},
   "source": [
    "# Introduction\n",
    "\n",
    "#### Note\n",
    "This notebook has been tested on a locally run juypter notebook as I could not get a single sucessful full execution on Google Colab without constant issues with it disconnecting from a hosted notebook. The sections which took the most time did not execute any more quickly when I used a locally hosted notebook."
   ]
  },
  {
   "cell_type": "markdown",
   "metadata": {
    "id": "80m304lUefG4"
   },
   "source": [
    "### MNIST dataset"
   ]
  },
  {
   "cell_type": "markdown",
   "metadata": {
    "id": "Bs8mHGcidHSa"
   },
   "source": [
    "\n",
    "\n",
    "The MNIST database  is a dataset of handwritten digits that has been and is extensively used in machine learning. There are $10$ classes, each image is $28\\times28$ pixels and, therefore, each input is $x_i\\in\\mathbb{R}^{784}$. "
   ]
  },
  {
   "cell_type": "markdown",
   "metadata": {
    "id": "ailycCq5epj2"
   },
   "source": [
    "### Etivity1 Task"
   ]
  },
  {
   "cell_type": "markdown",
   "metadata": {
    "id": "a-yNAxhUemjM"
   },
   "source": [
    "You have to extend the code to manage any arbitrary number of classes, in other words you have to implement a general-recipe multinomial logistic classifier and Bayesian multinomial logistic classifier.\n",
    "\n",
    "You must then select  3 digits at random and perform  the following task. \n",
    "\n",
    "1. Your goal is to use Bayesian multinomial logistic regression (as in the road-sign notebook) to solve this classification problem. \n",
    "\n",
    "2. You can downsize the training dataset (e.g., 40% training and 60%testing) if the computation of the posterior takes too much time in your computer.\n",
    "\n",
    "3. Use the posterior uncertainty to detect the instances (digits) in the test set that are hard to classify and remove them from the test-set.\n",
    "\n",
    "4. Then you need to compute again the accuracy of the general-recipe logistic regression on the remaining (non-difficult) instances and comment on the result.\n",
    "\n",
    "5. In practice, the task is to use uncertainty estimation to detect the difficult instances in the test-set. This is equivalent to refuse to classify all high-uncertainty instances or, in other words, when we are uncertain we say \"I don't know\" and we do not return any class. In this way, you will learn how uncertainty can be used to make safer decisions, by detecting the instances that are difficult to classify.\n"
   ]
  },
  {
   "cell_type": "markdown",
   "metadata": {
    "id": "nMRKRTQZe5fW"
   },
   "source": [
    "### Libraries"
   ]
  },
  {
   "cell_type": "code",
   "execution_count": 4,
   "metadata": {
    "id": "IxusAui7AX_f"
   },
   "outputs": [],
   "source": [
    "# Suppressing Warnings:\n",
    "import warnings\n",
    "warnings.filterwarnings(\"ignore\")"
   ]
  },
  {
   "cell_type": "code",
   "execution_count": 5,
   "metadata": {
    "id": "MQOfGMQpdHSb"
   },
   "outputs": [
    {
     "name": "stderr",
     "output_type": "stream",
     "text": [
      "WARNING (theano.tensor.blas): Using NumPy C-API based implementation for BLAS functions.\n"
     ]
    }
   ],
   "source": [
    "# Import libraries\n",
    "from sklearn.linear_model import LogisticRegression\n",
    "from sklearn.metrics import accuracy_score\n",
    "from sklearn.metrics import classification_report\n",
    "from sklearn import metrics\n",
    "from sklearn.utils import shuffle\n",
    "from sklearn.model_selection import train_test_split\n",
    "import sklearn.preprocessing\n",
    "\n",
    "import scipy.optimize as optimize\n",
    "from scipy.special import softmax\n",
    "\n",
    "import pandas as pd\n",
    "import numpy as np\n",
    "import seaborn as sns\n",
    "from tqdm import tqdm\n",
    "\n",
    "import matplotlib.image as mpimg\n",
    "import matplotlib.pyplot as plt\n",
    "import matplotlib\n",
    "%matplotlib inline\n",
    "import arviz as az\n",
    "\n",
    "import pymc3 as pm\n",
    "import random\n",
    "from IPython.display import HTML\n",
    "\n",
    "import theano as tt\n",
    "\n",
    "from skimage.color import rgb2gray\n",
    "\n",
    "from collections import Counter\n",
    "import datetime\n",
    "\n"
   ]
  },
  {
   "cell_type": "markdown",
   "metadata": {},
   "source": [
    "Setting the same seed allows the same digits to be used on each execution for comparison. Commented out to see how well it performs on other digits in the range."
   ]
  },
  {
   "cell_type": "code",
   "execution_count": 6,
   "metadata": {
    "id": "P5-qMSjpAQ-9"
   },
   "outputs": [
    {
     "name": "stdout",
     "output_type": "stream",
     "text": [
      "Etivity-1 start time 10:55:26.416591\n"
     ]
    }
   ],
   "source": [
    "print(\"Etivity-1 start time {}\".format(datetime.datetime.now().time()))\n",
    "\n",
    "# Setting a seed:\n",
    "#np.random.seed(123)"
   ]
  },
  {
   "cell_type": "markdown",
   "metadata": {},
   "source": [
    "#### Any functions needed/used later on."
   ]
  },
  {
   "cell_type": "code",
   "execution_count": 7,
   "metadata": {},
   "outputs": [],
   "source": [
    "def normalize(img):\n",
    "    return cv2.normalize(img, img, alpha=0, beta=1, norm_type=cv2.NORM_MINMAX, dtype=cv2.CV_32F)\n",
    "    \n",
    "\n",
    "def grayscale(img):\n",
    "    #COLOR_BGR2GRAY COLOR_RGB2GRAY\n",
    "    return rgb2gray(img)\n",
    "    #return cv2.cvtColor(img, cv2.COLOR_RGB2GRAY)\n",
    "  \n",
    "\n",
    "def setgrayscale(images):\n",
    "    #from rgb to gray\n",
    "    print(images.shape)\n",
    "    result = np.zeros(shape=(len(images),32,32))\n",
    "    for i in range(len(images)): \n",
    "        #gray = np.resize(grayscale(images[i]), (32, 32, 1))\n",
    "        gray_img = grayscale(images[i])\n",
    "        img_normalized = normalize(gray_img)\n",
    "        result[i] = gray_img\n",
    "    print(result.shape)\n",
    "    return result\n",
    "\n",
    "#---------------------------------------------------------------------------\n",
    "def plot_digits(instances, images_per_row=5, **options):\n",
    "    \"\"\"\n",
    "    Plot digits as 28x28 size\n",
    "    \"\"\"\n",
    "    \n",
    "    size = 28\n",
    "    images_per_row = min(len(instances), images_per_row)\n",
    "    images = [instance.reshape(size,size) for instance in instances]\n",
    "    n_rows = (len(instances) - 1) // images_per_row + 1\n",
    "    row_images = []\n",
    "    n_empty = n_rows * images_per_row - len(instances)\n",
    "    images.append(np.zeros((size, size * n_empty)))\n",
    "    \n",
    "    for row in range(n_rows):\n",
    "        rimages = images[row * images_per_row : (row + 1) * images_per_row]\n",
    "        row_images.append(np.concatenate(rimages, axis=1))\n",
    "    image = np.concatenate(row_images, axis=0)\n",
    "    plt.imshow(image,  cmap='gist_yarg', **options)\n",
    "    plt.axis(\"off\")\n",
    "    \n",
    "    \n",
    "#---------------------------------------------------------------------------        \n",
    "def plot_distribution(data, class_num):\n",
    "    \"\"\"\n",
    "    Plot the class distribution\n",
    "    \"\"\"\n",
    "    fig, ax = plt.subplots(figsize=(9,9))\n",
    "    ind = np.arange(class_num)\n",
    "\n",
    "    # Add outline to make it easier to see - from Carlos Santiago\n",
    "    n, bins, patches = ax.hist(data, ec='black', align='mid')\n",
    "    ax.set_xlabel('Classes')\n",
    "    ax.set_ylabel('Counts')\n",
    "    ax.set_title(r'Histogram of Digit images')\n",
    "    plt.show()\n",
    "\n",
    "#---------------------------------------------------------------------------        \n",
    "def calc_bay_pred(x_values, classes, train_shape, posterior_sample):\n",
    "    \"\"\"\n",
    "    Bayesian prediction - return the class that has the highest posterior probability\n",
    "    \"\"\"\n",
    "\n",
    "    y_pred_Bayesian=[]\n",
    "\n",
    "    for i in range(x_values.shape[0]):\n",
    "        val=np.zeros((1,len(classes)))\n",
    "    \n",
    "        for s in range(posterior_sample['beta'].shape[0]):\n",
    "            beta = np.hstack([np.zeros((train_shape, 1)),  posterior['beta'][s,:] ])\n",
    "            alpha = np.hstack([[0],  posterior['alpha'][s,:] ])     \n",
    "            val = val + softmax((np.array([x_values[i,:].dot(beta) + alpha])))\n",
    "    \n",
    "        mean_probability = val/posterior['beta'].shape[0]\n",
    "        y_pred_Bayesian.append( np.argmax(mean_probability))\n",
    "        \n",
    "    return y_pred_Bayesian\n",
    "    \n",
    "    \n",
    "#---------------------------------------------------------------------------    \n",
    "def show_images(images_array, x_values, num_to_show=10, img_size=28, gray=False):\n",
    "    \"\"\"\n",
    "    Display a number of images in colour or grayscale. It will alter the number\n",
    "    displayed based on trying to align all the images into even number per row\n",
    "    \"\"\"\n",
    "    \n",
    "    # Calc the number per row depending on the number to display.\n",
    "    # Set 8 as the max number\n",
    "    div = 8\n",
    "    tmp = [num_to_show // div + (1 if x < num_to_show % div else 0) for x in range (div)]\n",
    "    col = len(tmp)\n",
    "    row = tmp[1]\n",
    "    \n",
    "    num_to_show = (col * row)\n",
    "    \n",
    "    fig, axs = plt.subplots(row, col, figsize=(10, 6))\n",
    "    fig.subplots_adjust(hspace = .2, wspace=.001)\n",
    "    axs = axs.ravel()\n",
    "\n",
    "    # Show images with and without grayscale applied\n",
    "    for i in range(num_to_show):\n",
    "        index = images_array[i]\n",
    "        image = x_values[index,:].reshape(img_size, img_size)\n",
    "        axs[i].axis('off')\n",
    "        if (gray == False):\n",
    "            axs[i].imshow(image)\n",
    "        else:\n",
    "            axs[i].imshow(image,cmap=\"Greys_r\")"
   ]
  },
  {
   "cell_type": "markdown",
   "metadata": {},
   "source": [
    "### General variables <a id='gen_vars'></a>\n",
    "Set some variables that will be used throughout. These are generally the only ones you need to change to test different cases, I.E sample size, how many digits to test and number of each to test with."
   ]
  },
  {
   "cell_type": "code",
   "execution_count": 8,
   "metadata": {},
   "outputs": [],
   "source": [
    "# Set the max limit, over which the data being printed will be reduced to a summary.\n",
    "# Default is 1000 and that seems too much \n",
    "np.set_printoptions(threshold=100)\n",
    "max_num_of_classes = 10\n",
    "\n",
    "# Set the number instances that will be selected for each class (digit) that is chosen\n",
    "# Increasing this, increases execution time.\n",
    "num_class_instances = 5000\n",
    "\n",
    "# We select the number of Classes we want. 3 specified in the etivity requirements.\n",
    "num_classes_to_use = 3\n",
    "\n",
    "# The number of samples to use from the adjusted prior list (a.k.a posterior - being the probability\n",
    "# after the application of new information)\n",
    "# Increasing this will greatly increase the run time\n",
    "num_of_posterior_samples = 400"
   ]
  },
  {
   "cell_type": "markdown",
   "metadata": {
    "id": "r4hSuwkUfVQb"
   },
   "source": [
    "### Dataset <a id='dataset'></a>\n",
    "\n",
    "The MINST (Modified National Institute of Standards and Technology) (http://yann.lecun.com/exdb/mnist/) dataset is a collection of handwritten digits with 60,000 examples and 10,000 training sets."
   ]
  },
  {
   "cell_type": "markdown",
   "metadata": {
    "id": "w99Pc66YdHSd"
   },
   "source": [
    "#### Loading the MNIST dataset\n",
    "\n",
    "Load from either google colab or from local disk. For now local disk is easier for me as having issues uploading the 109MB file to colab and also constant disconnection from the notebook instance."
   ]
  },
  {
   "cell_type": "code",
   "execution_count": 9,
   "metadata": {
    "colab": {
     "base_uri": "https://localhost:8080/"
    },
    "id": "CYFWAbXVzynp",
    "outputId": "a18b4283-3b97-4eb3-e0ed-d2f241176139"
   },
   "outputs": [],
   "source": [
    "\n",
    "RunningInCOLAB = 'google.colab' in str(get_ipython())\n",
    "\n",
    "if RunningInCOLAB:\n",
    "    from google.colab import drive\n",
    "    drive.mount('/content/drive')\n",
    "    \n",
    "    # Path, copy the path from your Drive\n",
    "    Path = '/content/drive/MyDrive/Colab Notebooks/Enrique/Data/'\n",
    "\n",
    "    # MNIST Data\n",
    "    train_data = Path + 'mnist_train.csv'\n",
    "    test_data = Path + 'mnist_test.csv'\n",
    "else:\n",
    "    Path = \"./\""
   ]
  },
  {
   "cell_type": "markdown",
   "metadata": {},
   "source": [
    "Load the csv files into Pandas `DataFrame` type."
   ]
  },
  {
   "cell_type": "code",
   "execution_count": 10,
   "metadata": {
    "colab": {
     "base_uri": "https://localhost:8080/"
    },
    "id": "g4rCnS4vdHSd",
    "outputId": "87b5c3c5-8f1f-4133-f7c6-808adc4d73e2",
    "scrolled": true
   },
   "outputs": [
    {
     "name": "stdout",
     "output_type": "stream",
     "text": [
      "(60000, 784)\n",
      "(10000, 784)\n",
      "Using 28 as image dimension\n"
     ]
    }
   ],
   "source": [
    "\n",
    "# MNIST CSV Data from sharepoint\n",
    "train_data = Path + 'mnist_train.csv'\n",
    "test_data = Path + 'mnist_test.csv'\n",
    "\n",
    "# Training data\n",
    "df_train = pd.read_csv(train_data)\n",
    "X_train = df_train.drop(\"label\",axis=1).values\n",
    "y_train = df_train.label.values\n",
    "print(X_train.shape)\n",
    "\n",
    "# test data\n",
    "df_test = pd.read_csv(test_data)\n",
    "X_test = df_test.drop(\"label\",axis=1).values\n",
    "y_test = df_test.label.values\n",
    "print(X_test.shape)\n",
    "\n",
    "image_dimension = int(np.sqrt(X_test.shape[1]))\n",
    "print(\"Using {} as image dimension\".format(image_dimension))\n"
   ]
  },
  {
   "cell_type": "markdown",
   "metadata": {},
   "source": [
    "#### Normalise the data <a id='normalised'></a>\n",
    "Normalisation is the process of reducing the dataset to a comon scale to prevent problems arising when you try to combine them as features. In this case we are keeping the values between 0 and 1. In the original dataset, 255 represents black and 0 represents white."
   ]
  },
  {
   "cell_type": "code",
   "execution_count": 11,
   "metadata": {
    "colab": {
     "base_uri": "https://localhost:8080/"
    },
    "id": "O2ubJ_WoAqBh",
    "outputId": "d9445837-a9ea-4b7e-a2df-180748492c6b"
   },
   "outputs": [
    {
     "name": "stdout",
     "output_type": "stream",
     "text": [
      "Min value 0.0 maximum value 1.0\n"
     ]
    }
   ],
   "source": [
    "# Normalizing the Inputs:\n",
    "X_train = X_train/255\n",
    "X_test = X_test/255\n",
    "\n",
    "# Printing the new input range of values:\n",
    "minv = np.min(X_train)\n",
    "maxv = np.max(X_train)\n",
    "print(\"Min value {} maximum value {}\".format(minv,maxv))"
   ]
  },
  {
   "cell_type": "markdown",
   "metadata": {
    "id": "SR6HpkWndHSe"
   },
   "source": [
    "### Description of Data <a id='data_description'></a>"
   ]
  },
  {
   "cell_type": "markdown",
   "metadata": {},
   "source": [
    "#### I want to visualise the types of images we are dealing with.\n",
    "\n",
    "The code below is from https://github.com/iamkrut/MNIST_handwriting_classification/blob/master/main.py and reads the raw data from the MINST site. It will create a `./data/MNIST/raw` directory with the following files:\n",
    "\n",
    "* `t10k-images-idx3-ubyte`\n",
    "* `t10k-labels-idx1-ubyte`\n",
    "* `train-images-idx3-ubyte`\n",
    "* `train-labels-idx1-ubyte`\n",
    "* `t10k-images-idx3-ubyte.gz`\n",
    "* `t10k-labels-idx1-ubyte.gz`\n",
    "* `train-images-idx3-ubyte.gz`\n",
    "* `train-labels-idx1-ubyte.gz`\n"
   ]
  },
  {
   "cell_type": "code",
   "execution_count": 12,
   "metadata": {},
   "outputs": [
    {
     "name": "stdout",
     "output_type": "stream",
     "text": [
      "<class 'torchvision.datasets.mnist.MNIST'>\n"
     ]
    },
    {
     "data": {
      "image/png": "[encoded data removed]",
      "text/plain": [
       "<Figure size 1440x864 with 19 Axes>"
      ]
     },
     "metadata": {
      "needs_background": "light"
     },
     "output_type": "display_data"
    }
   ],
   "source": [
    "# For displaying the images\n",
    "import torch\n",
    "from torchvision import transforms\n",
    "import torchvision.datasets as datasets\n",
    "\n",
    "mnist_trainset = datasets.MNIST(root='./data', train=True, download=True,\n",
    "                                transform=transforms.Compose([transforms.ToTensor()]))\n",
    "\n",
    "print(type(mnist_trainset))\n",
    "\n",
    "# Show some of the images/data\n",
    "number_to_print = 20\n",
    "fig=plt.figure(figsize=(20, 12))\n",
    "\n",
    "for i in range(1, number_to_print):\n",
    "    \n",
    "    img = transforms.ToPILImage(mode='L')(mnist_trainset[i][0])\n",
    "    fig.add_subplot(1, number_to_print, i)\n",
    "    plt.title(mnist_trainset[i][1])\n",
    "    plt.imshow(img)\n",
    "    \n",
    "plt.show()"
   ]
  },
  {
   "cell_type": "markdown",
   "metadata": {},
   "source": [
    "This section prints some basic information about the dataset from the CSV files - number of examples, shape etc."
   ]
  },
  {
   "cell_type": "code",
   "execution_count": 13,
   "metadata": {
    "colab": {
     "base_uri": "https://localhost:8080/"
    },
    "id": "sibN1Vv1dHSf",
    "outputId": "1003de54-5653-47cf-a6ce-67e7abaa3768"
   },
   "outputs": [
    {
     "name": "stdout",
     "output_type": "stream",
     "text": [
      "(60000, 784)\n",
      "Number of Training examples = 60000\n",
      "Number of Test examples = 10000\n",
      "Image input shape = 784\n",
      "Total number of classes = 10\n",
      "Test data shape 784\n"
     ]
    }
   ],
   "source": [
    "# Number of examples\n",
    "n_train = len(X_train)\n",
    "n_test = len(X_test)\n",
    "\n",
    "# Shape of an traffic sign image\n",
    "image_shape = X_train.shape[1]\n",
    "print(X_train.shape)\n",
    "\n",
    "# unique classes/labels in the training dataset.\n",
    "alltotal = set(y_train)\n",
    "total_num_classes = len(alltotal)\n",
    "\n",
    "print(\"Number of Training examples =\", n_train)\n",
    "print(\"Number of Test examples =\", n_test)\n",
    "print(\"Image input shape =\", image_shape)\n",
    "print(\"Total number of classes =\", total_num_classes)\n",
    "print(\"Test data shape {}\".format(X_test.shape[1]))"
   ]
  },
  {
   "cell_type": "markdown",
   "metadata": {
    "id": "6HQDSvrRKZF6"
   },
   "source": [
    "### Class Distribution <a id='class_distro'></a>\n",
    "\n",
    "Each 'class' represents a different digit and there are 10 different types in the dataset (0 - 9)"
   ]
  },
  {
   "cell_type": "code",
   "execution_count": 14,
   "metadata": {},
   "outputs": [
    {
     "data": {
      "image/png": "[encoded data removed]",
      "text/plain": [
       "<Figure size 648x648 with 1 Axes>"
      ]
     },
     "metadata": {
      "needs_background": "light"
     },
     "output_type": "display_data"
    }
   ],
   "source": [
    "plot_distribution(y_train, total_num_classes)"
   ]
  },
  {
   "cell_type": "markdown",
   "metadata": {
    "id": "EyLWw3nsLCtk"
   },
   "source": [
    "### Downsampling\n",
    "We are only selecting a subset from the range of digits available for analysis."
   ]
  },
  {
   "cell_type": "markdown",
   "metadata": {
    "id": "2U1lFEwhLKBf"
   },
   "source": [
    "#### Randomly selecting 3 of the 10 Digit Classes"
   ]
  },
  {
   "cell_type": "code",
   "execution_count": 15,
   "metadata": {
    "id": "0EeRZZWdLRPT"
   },
   "outputs": [
    {
     "name": "stdout",
     "output_type": "stream",
     "text": [
      "Unorted classes chosen [6, 5, 0]\n",
      "Classes chosen sorted [0, 5, 6]\n"
     ]
    }
   ],
   "source": [
    "\n",
    "# Empty list to append the random digit classes we select:\n",
    "classes = []\n",
    "\n",
    "# We select 'num_classes_to_use' digits at random and make sure they are unique:\n",
    "while len(classes) < num_classes_to_use:\n",
    "    \n",
    "    # Randomly drawing a digit from 0-9:\n",
    "    num2choose = np.random.randint(0, total_num_classes)    \n",
    "\n",
    "    # Append the digit if it's not already in our list of classes:    \n",
    "    if num2choose not in classes:        \n",
    "        classes.append(num2choose)\n",
    "        \n",
    "print(\"Unorted classes chosen {}\".format(classes))\n",
    "\n",
    "# Sorting the Classes smallest to largest    \n",
    "classes.sort()\n",
    "\n",
    "# print classes selected\n",
    "print(\"Classes chosen sorted {}\".format(classes))"
   ]
  },
  {
   "cell_type": "markdown",
   "metadata": {},
   "source": [
    "The numpy `where(condition[, x, y])` method will return values from x or y depending on condition, so for below, we are selecting images that are in the training set."
   ]
  },
  {
   "cell_type": "code",
   "execution_count": 16,
   "metadata": {
    "id": "2M8R5NqKMB_M",
    "scrolled": true
   },
   "outputs": [
    {
     "name": "stdout",
     "output_type": "stream",
     "text": [
      "Using class 0, curr image shape (5923, 784)\n",
      "Using class 5, curr image shape (5421, 784)\n",
      "Using class 6, curr image shape (5918, 784)\n",
      "Xtrain type is now <class 'numpy.ndarray'>\n"
     ]
    }
   ],
   "source": [
    "\n",
    "inputs = []\n",
    "labels = []\n",
    "\n",
    "# Loop to randomly sample the instances for each digit:\n",
    "for r in classes:\n",
    "\n",
    "    imgs = X_train[np.where(y_train==r)[0], :]\n",
    "    print(\"Using class {}, curr image shape {}\".format(r, imgs.shape))\n",
    "    inputs.append(imgs[np.random.permutation(imgs.shape[0]),:][0:num_class_instances,:])\n",
    "    labels.append(np.ones(num_class_instances)*r)\n",
    "    \n",
    "# Shaping inputs and labels in the right format. vstack, alters the contents to be vertical\n",
    "# So from ([1, 2, 3])\n",
    "#    to array([[1],\n",
    "#              [2],\n",
    "#              [3]])\n",
    "X_train = np.vstack(inputs).astype(np.float64)\n",
    "y_train = np.hstack(labels)\n",
    "print(\"Xtrain type is now {}\".format(type(X_train)))\n"
   ]
  },
  {
   "cell_type": "markdown",
   "metadata": {},
   "source": [
    "I want to get some indication of what I am dealing with and also confirm that the number of samples selected match the value of `num_class_instances` times the number of classes selected."
   ]
  },
  {
   "cell_type": "code",
   "execution_count": 17,
   "metadata": {},
   "outputs": [
    {
     "name": "stdout",
     "output_type": "stream",
     "text": [
      "[array([[0., 0., 0., ..., 0., 0., 0.],\n",
      "       [0., 0., 0., ..., 0., 0., 0.],\n",
      "       [0., 0., 0., ..., 0., 0., 0.],\n",
      "       ...,\n",
      "       [0., 0., 0., ..., 0., 0., 0.],\n",
      "       [0., 0., 0., ..., 0., 0., 0.],\n",
      "       [0., 0., 0., ..., 0., 0., 0.]]), array([[0., 0., 0., ..., 0., 0., 0.],\n",
      "       [0., 0., 0., ..., 0., 0., 0.],\n",
      "       [0., 0., 0., ..., 0., 0., 0.],\n",
      "       ...,\n",
      "       [0., 0., 0., ..., 0., 0., 0.],\n",
      "       [0., 0., 0., ..., 0., 0., 0.],\n",
      "       [0., 0., 0., ..., 0., 0., 0.]]), array([[0., 0., 0., ..., 0., 0., 0.],\n",
      "       [0., 0., 0., ..., 0., 0., 0.],\n",
      "       [0., 0., 0., ..., 0., 0., 0.],\n",
      "       ...,\n",
      "       [0., 0., 0., ..., 0., 0., 0.],\n",
      "       [0., 0., 0., ..., 0., 0., 0.],\n",
      "       [0., 0., 0., ..., 0., 0., 0.]])]\n",
      "[[0. 0. 0. ... 0. 0. 0.]\n",
      " [0. 0. 0. ... 0. 0. 0.]\n",
      " [0. 0. 0. ... 0. 0. 0.]\n",
      " ...\n",
      " [0. 0. 0. ... 0. 0. 0.]\n",
      " [0. 0. 0. ... 0. 0. 0.]\n",
      " [0. 0. 0. ... 0. 0. 0.]] [0. 0. 0. ... 6. 6. 6.]\n",
      "(15000, 784)\n",
      "(15000,)\n"
     ]
    }
   ],
   "source": [
    "print(inputs)\n",
    "\n",
    "print(X_train, y_train)\n",
    "print(X_train.shape)\n",
    "print(y_train.shape)"
   ]
  },
  {
   "cell_type": "markdown",
   "metadata": {
    "id": "_6-YHrQQMicy"
   },
   "source": [
    "#### Show the distribution with the new selected classes"
   ]
  },
  {
   "cell_type": "code",
   "execution_count": 18,
   "metadata": {
    "id": "RA300COaMxWm"
   },
   "outputs": [
    {
     "data": {
      "image/png": "[encoded data removed]",
      "text/plain": [
       "<Figure size 648x648 with 1 Axes>"
      ]
     },
     "metadata": {
      "needs_background": "light"
     },
     "output_type": "display_data"
    }
   ],
   "source": [
    "plot_distribution(y_train, num_classes_to_use)"
   ]
  },
  {
   "cell_type": "markdown",
   "metadata": {},
   "source": [
    "The plot function is using 28x28 which is means 784 is required as the size of the array and this is confirmed by the shape output above.<br><br>\n",
    "Below we are plotting a random sample of 100 from the list of chosen classes to get an idea of what type of handwritten digits we are dealing with."
   ]
  },
  {
   "cell_type": "code",
   "execution_count": 19,
   "metadata": {
    "id": "zeEG-LGOM4fJ"
   },
   "outputs": [
    {
     "data": {
      "text/plain": [
       "Text(0.5, 1.0, 'Original')"
      ]
     },
     "execution_count": 19,
     "metadata": {},
     "output_type": "execute_result"
    },
    {
     "data": {
      "image/png": "[encoded data removed]",
      "text/plain": [
       "<Figure size 576x576 with 1 Axes>"
      ]
     },
     "metadata": {
      "needs_background": "light"
     },
     "output_type": "display_data"
    }
   ],
   "source": [
    "# Show a few instances from each Digit:\n",
    "plt.figure(figsize=(8,8))\n",
    "\n",
    "# Selecting a few label indices at random from each of the 3 classes to show:\n",
    "label_indices = random.sample(range(0, len(X_train)), 100)\n",
    "\n",
    "# Plotting 'original' image\n",
    "plot_digits(X_train[label_indices,:],images_per_row=10)\n",
    "plt.title(\"Original\", fontsize=14)"
   ]
  },
  {
   "cell_type": "markdown",
   "metadata": {},
   "source": [
    "Printing the labels will give an indication as to what range of samples the above are from. From what I can see the list displayed generally seems to have a good range from the available set."
   ]
  },
  {
   "cell_type": "code",
   "execution_count": 20,
   "metadata": {},
   "outputs": [
    {
     "name": "stdout",
     "output_type": "stream",
     "text": [
      "[10138, 5097, 14446, 5712, 12955, 3290, 12618, 8960, 7856, 7728, 14424, 2768, 12659, 9951, 281, 9773, 2710, 2904, 4141, 7170, 14688, 14813, 9252, 3049, 6571, 235, 6591, 13255, 6683, 7108, 11880, 13500, 4193, 14064, 10940, 6903, 11683, 13887, 5169, 8662, 8852, 7141, 6825, 164, 799, 444, 6274, 9942, 11733, 11229, 9459, 6472, 3241, 13491, 8291, 10627, 2435, 1902, 12084, 9980, 5663, 14174, 7908, 6419, 632, 3647, 5252, 12170, 6972, 13144, 13551, 10004, 6741, 1674, 3447, 9214, 10482, 3252, 11901, 10666, 5423, 9788, 2562, 9808, 6053, 7664, 8213, 6121, 7667, 1783, 5337, 2303, 12998, 13896, 915, 7754, 6630, 12321, 4012, 6944]\n"
     ]
    }
   ],
   "source": [
    "print (label_indices)"
   ]
  },
  {
   "cell_type": "markdown",
   "metadata": {
    "id": "FsAOnOcNNG_V"
   },
   "source": [
    "###  Splitting the Training data into both Training and Validation Sets:\n",
    "\n",
    "- Although this is the Training set, we can still set aside some samples (for instance 20%) of the 1,500 instances we have for Model Validation purposes.\n",
    "\n",
    "\n",
    "- With that Validation Set, we can then select the amount of Uncertainty we are happy with from our Model to use out of sample on other unseen data.\n",
    "\n",
    "\n",
    "- We can then test out how well our decision performs on the Test Set that we put aside earlier."
   ]
  },
  {
   "cell_type": "code",
   "execution_count": 21,
   "metadata": {
    "id": "YdsmyVAtPXNn"
   },
   "outputs": [],
   "source": [
    "### Split tha dataset in training and validation sets\n",
    "# choose the fraction of your validation data from the training set\n",
    "w = 0.20\n",
    "X_train, X_val, y_train, y_val = train_test_split(X_train, y_train, test_size=w, random_state=0)\n",
    " \n",
    "# Shuffling the training instaces around to randomize the order of inputs to the model:\n",
    "X_train_shuf, y_train_shuf = shuffle(X_train, y_train)"
   ]
  },
  {
   "cell_type": "markdown",
   "metadata": {},
   "source": [
    "#### Print shape of your validation and training set"
   ]
  },
  {
   "cell_type": "code",
   "execution_count": 22,
   "metadata": {
    "id": "qXwJwP0iPxhi"
   },
   "outputs": [
    {
     "name": "stdout",
     "output_type": "stream",
     "text": [
      "X training data shape (12000, 784)\n",
      "X validation set hape (3000, 784)\n",
      "Y training data shape (12000,)\n",
      "Y validation data shape (3000,)\n"
     ]
    }
   ],
   "source": [
    "print(\"X training data shape {}\".format(X_train.shape))\n",
    "print(\"X validation set hape {}\".format(X_val.shape))\n",
    "print(\"Y training data shape {}\".format(y_train.shape))\n",
    "print(\"Y validation data shape {}\".format(y_val.shape))"
   ]
  },
  {
   "cell_type": "markdown",
   "metadata": {
    "id": "aOroY1QoP8DY"
   },
   "source": [
    "### Encoding the Class labels for the Probabilistic ML Model\n",
    "\n",
    "This is an example:\n",
    "\n",
    "- **[1,0,0]** for first digit\n",
    "- **[0,1,0]** for second digit\n",
    "- **[0,0,1]** for third digit"
   ]
  },
  {
   "cell_type": "markdown",
   "metadata": {
    "id": "rjUaqWTqQIcp"
   },
   "source": [
    "### General Multinomial Logistic regression <a id='gen_multinomial_lr'></a>\n",
    "* Using an integer for `random_state` will produce the same results each time\n",
    "* `max_iter` - max number of iterations\n",
    "* `solver` is the optimisation algorithm to use\n",
    "* `multi_class` if you are using more than 2 classes"
   ]
  },
  {
   "cell_type": "code",
   "execution_count": 23,
   "metadata": {},
   "outputs": [
    {
     "name": "stdout",
     "output_type": "stream",
     "text": [
      "Accuracy = 0.9636666666666667\n"
     ]
    }
   ],
   "source": [
    "# General-recipe ML Multinomial logistic regression\n",
    "gen_model_log = LogisticRegression(random_state=0,\n",
    "                         max_iter=2000,\n",
    "                         C=100,\n",
    "                         solver='lbfgs',\n",
    "                         multi_class='multinomial').fit(X_train_shuf, y_train_shuf)\n",
    "\n",
    "# Classification:\n",
    "y_pred_logi = gen_model_log.predict(X_val)\n",
    "y_pred_logi_prob = gen_model_log.predict_proba(X_val)\n",
    "\n",
    "prob_classmax = np.max(y_pred_logi_prob, axis=1)\n",
    "\n",
    "# Computing the Accuracy:\n",
    "print(\"Accuracy =\", accuracy_score(y_pred_logi, y_val))"
   ]
  },
  {
   "cell_type": "markdown",
   "metadata": {},
   "source": [
    "Change 1 input to see is the accuracy improves - a 25 fold increase in iterations."
   ]
  },
  {
   "cell_type": "code",
   "execution_count": 24,
   "metadata": {},
   "outputs": [
    {
     "name": "stdout",
     "output_type": "stream",
     "text": [
      "Accuracy = 0.9636666666666667\n"
     ]
    }
   ],
   "source": [
    "# General-recipe ML Multinomial logistic regression\n",
    "gen_model_log_10 = LogisticRegression(random_state=0,\n",
    "                         max_iter=50000,\n",
    "                         C=100,\n",
    "                         solver='lbfgs',\n",
    "                         multi_class='multinomial').fit(X_train_shuf, y_train_shuf)\n",
    "\n",
    "# Classification:\n",
    "y_pred_logi_10 = gen_model_log_10.predict(X_val)\n",
    "y_pred_logi_prob_10 = gen_model_log_10.predict_proba(X_val)\n",
    "\n",
    "prob_classmax_10 = np.max(y_pred_logi_prob_10, axis=1)\n",
    "\n",
    "# Computing the Accuracy:\n",
    "print(\"Accuracy =\", accuracy_score(y_pred_logi_10, y_val))"
   ]
  },
  {
   "cell_type": "markdown",
   "metadata": {},
   "source": [
    "<a id='gen_mlr_times'></a>\n",
    "Both results were the same across different values of classes and number of instances of each of those classes, so no increase in accuracy would suggest other paramaters/inputs will need to change if I want to see greater accuracy. The first 4 points below were using the digits 1,2 & 6<br>\n",
    "* When I set the number of instances to use from each class to 1000 and the number of postier samples was 300, the accuracy was 0.9633333333333334. It took 8 min 4 sec to execute.\n",
    "* When I set the number of instances to use from each class to 2000 and the number of postier samples was 300, the accuracy was 0.975. It took 12 min and 38 seconds to run.\n",
    "* When I set the number of instances to use from each class to 2000 and the number of postier samples was 1000, the accuracy was 0.975. It took 1hr 16 min to run.\n",
    "* When I set the number of instances to use from each class to 5000 and the number of postier samples was 500 the accuracy was 0.974. It took 59 min and 12 seconds to run.\n",
    "* When I did not use a seed and the digits chosen changed to 0,1 & 6, the accuracy increased to 99% for 5000 & 500 values but decreased for other sets E.G 1,7,9"
   ]
  },
  {
   "cell_type": "code",
   "execution_count": 25,
   "metadata": {},
   "outputs": [
    {
     "data": {
      "text/plain": [
       "array([0.50678747, 0.52361872, 0.54426117, ..., 1.        , 1.        ,\n",
       "       1.        ])"
      ]
     },
     "execution_count": 25,
     "metadata": {},
     "output_type": "execute_result"
    }
   ],
   "source": [
    "np.sort(prob_classmax)"
   ]
  },
  {
   "cell_type": "markdown",
   "metadata": {},
   "source": [
    "#### Print out some information on the incorrect results selected<br>\n",
    "The shape is the number of wrong instances."
   ]
  },
  {
   "cell_type": "code",
   "execution_count": 26,
   "metadata": {},
   "outputs": [
    {
     "data": {
      "text/plain": [
       "(109,)"
      ]
     },
     "execution_count": 26,
     "metadata": {},
     "output_type": "execute_result"
    }
   ],
   "source": [
    "# probability of general-recipe logistic regression in wrong instances\n",
    "prob_classmax[y_pred_logi!=y_val]\n",
    "prob_classmax[y_pred_logi!=y_val].shape"
   ]
  },
  {
   "cell_type": "code",
   "execution_count": 27,
   "metadata": {},
   "outputs": [
    {
     "data": {
      "text/plain": [
       "(3000,)"
      ]
     },
     "execution_count": 27,
     "metadata": {},
     "output_type": "execute_result"
    }
   ],
   "source": [
    "np.array(y_pred_logi)\n",
    "np.array(y_pred_logi).shape"
   ]
  },
  {
   "cell_type": "markdown",
   "metadata": {},
   "source": [
    "#### Display a confusion matrix <a id='confusion_matrix'></a>\n",
    "This summarises the performance of the algorithm by displaying the results in table format. It presents the errors being made along with types of errors, I.E false positives/negatives and true postives/negatives or if it is confusing one label for another.<br>\n",
    "* The diagonal (in yellow) represents the correcly labeled values for those labels.\n",
    "* The others are what label was incorrectly classified as what value.\n"
   ]
  },
  {
   "cell_type": "code",
   "execution_count": 28,
   "metadata": {},
   "outputs": [
    {
     "data": {
      "text/plain": [
       "Text(0.5, 69.0, 'Predicted Label')"
      ]
     },
     "execution_count": 28,
     "metadata": {},
     "output_type": "execute_result"
    },
    {
     "data": {
      "image/png": "[encoded data removed]",
      "text/plain": [
       "<Figure size 720x720 with 2 Axes>"
      ]
     },
     "metadata": {
      "needs_background": "light"
     },
     "output_type": "display_data"
    }
   ],
   "source": [
    "plt.figure(figsize=(10,10))\n",
    "plt.title('Confusion Matrix', fontsize=14)\n",
    "cm = metrics.confusion_matrix(y_val, y_pred_logi)\n",
    "\n",
    "sns.heatmap(cm, annot=True, fmt=\".3f\", linewidths=.6, cmap = 'viridis')\n",
    "\n",
    "plt.ylabel('Actual Label')\n",
    "plt.xlabel('Predicted Label')"
   ]
  },
  {
   "cell_type": "markdown",
   "metadata": {},
   "source": [
    "#### Print some information on model performance <a id='model_stats'></a>"
   ]
  },
  {
   "cell_type": "code",
   "execution_count": 29,
   "metadata": {},
   "outputs": [
    {
     "name": "stdout",
     "output_type": "stream",
     "text": [
      "               precision    recall  f1-score   support\n",
      "\n",
      "Digit/class 0     0.9678    0.9668    0.9673       964\n",
      "Digit/class 5     0.9544    0.9581    0.9562      1026\n",
      "Digit/class 6     0.9692    0.9663    0.9678      1010\n",
      "\n",
      "     accuracy                         0.9637      3000\n",
      "    macro avg     0.9638    0.9637    0.9638      3000\n",
      " weighted avg     0.9637    0.9637    0.9637      3000\n",
      "\n"
     ]
    }
   ],
   "source": [
    "y_true = y_val\n",
    "y_pred = y_pred_logi\n",
    "\n",
    "target_names_lst = []\n",
    "\n",
    "for digit in classes:\n",
    "  target_names_lst.append(\"Digit/class {}\".format(digit))\n",
    "\n",
    "print(classification_report(y_true, y_pred, target_names=target_names_lst, digits=4))"
   ]
  },
  {
   "cell_type": "markdown",
   "metadata": {},
   "source": [
    "#### Precision\n",
    "It is a measure of quality. It shows the correctly predicted true positives to the actual number, so how many of the true positives were actually found.\n",
    "#### Recall\n",
    "It is how many true positives were found.\n",
    "\n",
    "#### F1-Score\n",
    "It is the measue of the accuracy and is calculated from precision and recall values.You can use it as a comparison between the precision and recall values. <br>\n",
    "\n",
    "In the above example, all 3 measurements are similarily high and close together, indicating that at least on this run with those values and that sample set, the model doesn't have too many issues. On certain sets of digits (1,2,6 for example), all the values were 98%+.\n"
   ]
  },
  {
   "cell_type": "markdown",
   "metadata": {
    "id": "3uQG6JsOQxH5"
   },
   "source": [
    "### Probabilistic Multinomial Logistic Regression <a id='probabilistic_ml_regression'></a>"
   ]
  },
  {
   "cell_type": "markdown",
   "metadata": {
    "id": "irlmUNw7Q5YL"
   },
   "source": [
    "The Multinomial Logistic Regression has some parameters:\n",
    "\n",
    "- $\\alpha$, which is the intercept term:\n",
    "\n",
    "- $\\beta$, which is a vector of coefficients which give a weighting to the importance of each input feature:\n",
    "\n",
    "Using PyMC3 to build a model."
   ]
  },
  {
   "cell_type": "code",
   "execution_count": 30,
   "metadata": {
    "id": "1o7mbKWmRhz5"
   },
   "outputs": [
    {
     "name": "stdout",
     "output_type": "stream",
     "text": [
      "Shuffle X_train shape 784\n",
      "Number of classes 3\n"
     ]
    }
   ],
   "source": [
    "# We use LabelBinarizer to transfor classes into counts\n",
    "# neg_label=0, pos_label=1\n",
    "\n",
    "y_2_bin = sklearn.preprocessing.LabelBinarizer().fit_transform(y_train_shuf.reshape(-1,1))\n",
    "x_train_shape = X_train_shuf.shape[1]\n",
    "print(\"Shuffle X_train shape {}\".format(x_train_shape))\n",
    "\n",
    "# number of classes\n",
    "num_classes = len(classes)\n",
    "print(\"Number of classes {}\".format(num_classes))\n",
    "\n",
    "# floatX = float32\n",
    "floatX = tt.config.floatX\n",
    "\n",
    "init_b = np.random.randn(x_train_shape, num_classes - 1).astype(floatX)\n",
    "init_a = np.random.randn(num_classes - 1).astype(floatX)\n",
    "\n",
    "# Items within the 'with' statement will be associated with the model\n",
    "with pm.Model() as prob_multi_logistic:\n",
    "    \n",
    "    # Prior\n",
    "    β = pm.Normal('beta', 0, sigma=100, shape=(x_train_shape, num_classes-1), testval=init_b)\n",
    "    α = pm.Normal('alpha', 0, sigma=100, shape=(num_classes - 1,), testval=init_a)\n",
    "    \n",
    "    # we need to consider nc-1 features because the model is not identifiable\n",
    "    # the softmax turns a vector into a probability that sums up to one\n",
    "    # therefore we add zeros to go back to dimension nc\n",
    "    # so that softmax returns a vector of dimension nc\n",
    "    β1  = tt.tensor.concatenate([np.zeros((x_train_shape, 1)),β ],axis=1)\n",
    "    α1  = tt.tensor.concatenate([[0],α ],)\n",
    "    \n",
    "    # Likelihood\n",
    "    mu = pm.math.matrix_dot(X_train_shuf, β1) + α1\n",
    "    \n",
    "    # It doesn't work if the problem is binary\n",
    "    p = tt.tensor.nnet.nnet.softmax(mu)\n",
    "    observed = pm.Multinomial('likelihood', p=p, n=1, observed=y_2_bin)\n"
   ]
  },
  {
   "cell_type": "code",
   "execution_count": 31,
   "metadata": {},
   "outputs": [
    {
     "name": "stdout",
     "output_type": "stream",
     "text": [
      "[[0 1 0]\n",
      " [1 0 0]\n",
      " [1 0 0]\n",
      " ...\n",
      " [0 1 0]\n",
      " [0 0 1]\n",
      " [1 0 0]]\n"
     ]
    }
   ],
   "source": [
    "print(y_2_bin)"
   ]
  },
  {
   "cell_type": "markdown",
   "metadata": {},
   "source": [
    "#### Test with different number of itterations\n",
    "https://docs.pymc.io/notebooks/variational_api_quickstart.html\n",
    "    \n",
    "* `advi` is automatic differentiation variational inference. This automatically derives an efficient variational inference algorithm (https://en.wikipedia.org/wiki/Variational_Bayesian_methods)\n",
    "* Testing with smaller number of iterations when `num_class_instances` was increased to a 4 digit number reduces the run time\n",
    "* Testing above 10k iterations was taking too long, so they were not kept."
   ]
  },
  {
   "cell_type": "code",
   "execution_count": 32,
   "metadata": {},
   "outputs": [
    {
     "data": {
      "text/html": [
       "\n",
       "    <div>\n",
       "        <style>\n",
       "            /* Turns off some styling */\n",
       "            progress {\n",
       "                /* gets rid of default border in Firefox and Opera. */\n",
       "                border: none;\n",
       "                /* Needs to be in here for Safari polyfill so background images work as expected. */\n",
       "                background-size: auto;\n",
       "            }\n",
       "            .progress-bar-interrupted, .progress-bar-interrupted::-webkit-progress-bar {\n",
       "                background: #F44336;\n",
       "            }\n",
       "        </style>\n",
       "      <progress value='10000' class='' max='10000' style='width:300px; height:20px; vertical-align: middle;'></progress>\n",
       "      100.00% [10000/10000 14:59<00:00 Average Loss = 10,255]\n",
       "    </div>\n",
       "    "
      ],
      "text/plain": [
       "<IPython.core.display.HTML object>"
      ]
     },
     "metadata": {},
     "output_type": "display_data"
    },
    {
     "name": "stderr",
     "output_type": "stream",
     "text": [
      "Finished [100%]: Average Loss = 10,255\n"
     ]
    },
    {
     "data": {
      "text/plain": [
       "[<matplotlib.lines.Line2D at 0x7f9efd552c40>]"
      ]
     },
     "execution_count": 32,
     "metadata": {},
     "output_type": "execute_result"
    },
    {
     "data": {
      "image/png": "[encoded data removed]",
      "text/plain": [
       "<Figure size 792x648 with 1 Axes>"
      ]
     },
     "metadata": {
      "needs_background": "light"
     },
     "output_type": "display_data"
    }
   ],
   "source": [
    "with prob_multi_logistic:\n",
    "    approx10k = pm.fit(10000, method='advi')\n",
    "    \n",
    "plt.figure(figsize=(11,9))\n",
    "plt.xlabel('Iterations', fontsize=16)\n",
    "plt.ylabel('Loss', fontsize=16)\n",
    "plt.plot(approx10k.hist)\n"
   ]
  },
  {
   "cell_type": "code",
   "execution_count": 33,
   "metadata": {},
   "outputs": [
    {
     "data": {
      "text/html": [
       "\n",
       "    <div>\n",
       "        <style>\n",
       "            /* Turns off some styling */\n",
       "            progress {\n",
       "                /* gets rid of default border in Firefox and Opera. */\n",
       "                border: none;\n",
       "                /* Needs to be in here for Safari polyfill so background images work as expected. */\n",
       "                background-size: auto;\n",
       "            }\n",
       "            .progress-bar-interrupted, .progress-bar-interrupted::-webkit-progress-bar {\n",
       "                background: #F44336;\n",
       "            }\n",
       "        </style>\n",
       "      <progress value='4000' class='' max='4000' style='width:300px; height:20px; vertical-align: middle;'></progress>\n",
       "      100.00% [4000/4000 05:59<00:00 Average Loss = 16,426]\n",
       "    </div>\n",
       "    "
      ],
      "text/plain": [
       "<IPython.core.display.HTML object>"
      ]
     },
     "metadata": {},
     "output_type": "display_data"
    },
    {
     "name": "stderr",
     "output_type": "stream",
     "text": [
      "Finished [100%]: Average Loss = 16,384\n"
     ]
    },
    {
     "data": {
      "text/plain": [
       "[<matplotlib.lines.Line2D at 0x7f9efccb98b0>]"
      ]
     },
     "execution_count": 33,
     "metadata": {},
     "output_type": "execute_result"
    },
    {
     "data": {
      "image/png": "[encoded data removed]",
      "text/plain": [
       "<Figure size 720x576 with 1 Axes>"
      ]
     },
     "metadata": {
      "needs_background": "light"
     },
     "output_type": "display_data"
    }
   ],
   "source": [
    "with prob_multi_logistic:\n",
    "    approx4k = pm.fit(4000, method='advi')\n",
    "    \n",
    "plt.figure(figsize=(10,8))\n",
    "plt.xlabel('Iterations', fontsize=16)\n",
    "plt.ylabel('Loss', fontsize=16)\n",
    "plt.plot(approx4k.hist)"
   ]
  },
  {
   "cell_type": "markdown",
   "metadata": {},
   "source": [
    "The above 2 graphs show the loss after each iteration and you can see that it decreases sharply but there is very little change after between 3500 - 4000 iterations, suggesting the run time could be reduced by lowering the iterations without much of an increase in loss. I have tested this in the 2nd graph."
   ]
  },
  {
   "cell_type": "markdown",
   "metadata": {},
   "source": [
    "#### Get samples from the posterior set using the given step methods.\n",
    "* From https://docs.pymc.io/api/inference.html"
   ]
  },
  {
   "cell_type": "code",
   "execution_count": 34,
   "metadata": {
    "id": "WNmJvYc4Rho7"
   },
   "outputs": [],
   "source": [
    "posterior = approx10k.sample(draws=num_of_posterior_samples)"
   ]
  },
  {
   "cell_type": "markdown",
   "metadata": {},
   "source": [
    "#### Test some images <a id='softmax_image'></a>\n",
    "Applying softmax (computing the exponential) will ensure that each value will have a probability that increases the value of the higher scores and decreases the value of hte lower scores, thereby given a better value from which to interpret as probabilities."
   ]
  },
  {
   "cell_type": "code",
   "execution_count": 62,
   "metadata": {
    "id": "XXh5GXJsRhmr"
   },
   "outputs": [
    {
     "data": {
      "image/png": "[encoded data removed]",
      "text/plain": [
       "<Figure size 1440x1080 with 3 Axes>"
      ]
     },
     "metadata": {
      "needs_background": "light"
     },
     "output_type": "display_data"
    }
   ],
   "source": [
    "# The softmax function transforms each element of a collection by computing the exponential\n",
    "# of each element divided by the sum of the exponentials of all the elements.\n",
    "\n",
    "num_to_display = 4\n",
    "fig = plt.figure(figsize=(20, 15))\n",
    "\n",
    "# Select an image in the test set\n",
    "for i in range(1, num_to_display):\n",
    "    test_img_indx = random.randint(0, num_of_posterior_samples)\n",
    "\n",
    "    # Select a sample in the posterior\n",
    "    posterier_sample = random.randint(0, num_of_posterior_samples)\n",
    "\n",
    "    beta  = np.hstack([np.zeros((x_train_shape, 1)),  posterior['beta'][posterier_sample,:] ])\n",
    "    alpha = np.hstack([[0], posterior['alpha'][posterier_sample,:] ])\n",
    "    image = X_val[test_img_indx,:].reshape(image_dimension, image_dimension)\n",
    "    \n",
    "    fig.add_subplot(1, num_to_display, i)\n",
    "    title = \"Test image #\" + str(test_img_indx) + \\\n",
    "        \"\\nPosterior sample #\" + str(posterier_sample) + \\\n",
    "        \"\\nTrue class = \" + str(y_val[test_img_indx]) + \\\n",
    "        \"\\nclasses: \" + str(classes)\n",
    "    \n",
    "    plt.xlabel(\"Estimated probability\\n\" + \n",
    "               str(softmax((np.array([X_val[test_img_indx,:].dot(beta) + alpha])))[0,:]))\n",
    "    \n",
    "    plt.title(title)\n",
    "    plt.imshow(image, cmap=\"Greys_r\")\n",
    "\n",
    "\n",
    "plt.show()"
   ]
  },
  {
   "cell_type": "markdown",
   "metadata": {},
   "source": [
    "Depending on the digits chosen, on some executions, both digits were correctly classified but on some they were not. The output from 'classes' and the estimated probability should match the value in the 'True class' for a correctly identified number."
   ]
  },
  {
   "cell_type": "markdown",
   "metadata": {},
   "source": [
    "#### Calculate the digits with the highest posterior probability\n",
    "The times are being measured for my own references only."
   ]
  },
  {
   "cell_type": "code",
   "execution_count": 36,
   "metadata": {},
   "outputs": [
    {
     "name": "stdout",
     "output_type": "stream",
     "text": [
      "Start time 11:18:54.479032\n",
      "Finish time 11:31:55.391400\n"
     ]
    }
   ],
   "source": [
    "print(\"Start time {}\".format(datetime.datetime.now().time()))\n",
    "calc_y_pred_bayesian = calc_bay_pred(X_val, classes, x_train_shape, posterior)\n",
    "print(\"Finish time {}\".format(datetime.datetime.now().time()))"
   ]
  },
  {
   "cell_type": "code",
   "execution_count": 37,
   "metadata": {},
   "outputs": [
    {
     "name": "stdout",
     "output_type": "stream",
     "text": [
      "[0, 2, 2, 0, 1, 0, 2, 1, 1, 0, 2, 1, 0, 2, 1, 2, 0, 2, 2, 1, 2, 1, 1, 0, 0, 0, 2, 1, 1, 0, 1, 2, 1, 0, 2, 1, 2, 1, 2, 1, 2, 1, 2, 2, 0, 2, 1, 2, 2, 2, 2, 2, 1, 1, 1, 0, 0, 0, 2, 1, 2, 2, 1, 1, 1, 2, 1, 1, 1, 0, 2, 0, 1, 0, 2, 2, 1, 2, 1, 2, 2, 0, 0, 1, 2, 2, 2, 2, 1, 0, 0, 0, 0, 1, 2, 0, 2, 2, 0, 1, 1, 0, 1, 2, 2, 1, 0, 2, 2, 0, 1, 2, 1, 1, 1, 0, 2, 0, 1, 1, 2, 1, 0, 2, 0, 0, 0, 0, 2, 2, 2, 1, 1, 2, 2, 1, 2, 0, 1, 0, 1, 2, 1, 1, 0, 1, 0, 1, 1, 0, 0, 2, 1, 2, 2, 1, 2, 0, 0, 1, 0, 1, 2, 0, 0, 0, 1, 1, 2, 1, 2, 2, 1, 2, 1, 2, 1, 1, 2, 1, 2, 1, 2, 0, 0, 2, 2, 1, 2, 2, 0, 1, 2, 2, 2, 0, 0, 0, 2, 1, 1, 2, 1, 2, 2, 0, 1, 0, 2, 1, 2, 2, 0, 1, 0, 0, 2, 0, 2, 0, 1, 2, 2, 1, 0, 2, 2, 2, 2, 2, 1, 2, 1, 0, 2, 0, 0, 2, 1, 2, 1, 2, 1, 2, 2, 0, 1, 0, 0, 0, 1, 1, 1, 2, 2, 2, 1, 2, 2, 2, 2, 2, 0, 1, 2, 1, 1, 1, 0, 1, 0, 0, 2, 2, 2, 1, 2, 0, 0, 2, 2, 0, 1, 1, 0, 2, 0, 2, 1, 1, 0, 0, 1, 2, 0, 0, 1, 1, 1, 1, 0, 0, 2, 1, 1, 1, 2, 1, 0, 0, 0, 2, 0, 0, 2, 2, 0, 1, 0, 0, 1, 1, 2, 0, 0, 1, 2, 1, 1, 2, 1, 2, 2, 0, 0, 0, 1, 2, 2, 1, 2, 1, 1, 2, 1, 0, 0, 2, 1, 0, 0, 1, 2, 0, 2, 2, 2, 2, 0, 1, 0, 1, 1, 0, 0, 0, 2, 2, 0, 1, 0, 1, 0, 0, 2, 2, 1, 0, 0, 1, 2, 0, 2, 0, 2, 0, 2, 2, 2, 2, 1, 0, 0, 2, 1, 0, 1, 2, 1, 1, 2, 0, 0, 0, 0, 1, 0, 1, 1, 2, 0, 1, 1, 0, 1, 0, 2, 0, 2, 0, 1, 0, 1, 1, 1, 1, 0, 1, 1, 2, 1, 1, 1, 1, 1, 0, 2, 0, 1, 1, 2, 0, 1, 1, 1, 2, 2, 0, 0, 1, 1, 1, 2, 2, 0, 2, 1, 0, 2, 0, 2, 2, 1, 0, 0, 1, 0, 0, 0, 2, 0, 0, 2, 2, 2, 2, 1, 0, 2, 0, 1, 2, 1, 1, 1, 0, 2, 1, 2, 1, 2, 0, 0, 0, 1, 2, 1, 2, 0, 2, 2, 1, 1, 1, 2, 0, 1, 2, 2, 0, 2, 2, 0, 0, 2, 2, 0, 2, 1, 2, 0, 2, 1, 1, 1, 1, 1, 1, 0, 2, 1, 1, 2, 2, 2, 2, 1, 2, 2, 2, 1, 2, 1, 0, 0, 0, 1, 2, 0, 1, 2, 2, 2, 2, 0, 1, 1, 1, 0, 0, 1, 1, 0, 1, 0, 2, 0, 1, 0, 2, 0, 2, 0, 1, 0, 1, 2, 0, 2, 1, 2, 2, 2, 0, 2, 2, 1, 2, 0, 2, 2, 1, 0, 1, 0, 1, 1, 1, 0, 2, 0, 2, 1, 1, 0, 0, 0, 1, 2, 0, 2, 0, 1, 1, 0, 0, 0, 2, 0, 2, 1, 0, 2, 1, 1, 0, 0, 2, 1, 0, 2, 0, 1, 2, 1, 1, 1, 0, 0, 0, 1, 1, 0, 2, 0, 1, 1, 0, 2, 1, 1, 1, 2, 1, 2, 1, 1, 2, 1, 2, 2, 1, 0, 1, 1, 0, 2, 1, 2, 1, 2, 1, 1, 1, 0, 2, 1, 1, 0, 2, 2, 1, 1, 0, 0, 1, 2, 1, 0, 0, 2, 1, 0, 2, 2, 1, 0, 2, 0, 1, 1, 2, 0, 2, 2, 1, 1, 0, 1, 1, 2, 2, 1, 0, 1, 0, 1, 1, 0, 1, 1, 1, 2, 0, 0, 1, 2, 1, 0, 2, 0, 0, 0, 2, 1, 2, 0, 0, 1, 1, 0, 0, 1, 0, 0, 2, 1, 2, 0, 0, 2, 1, 2, 2, 0, 2, 2, 1, 2, 0, 0, 1, 2, 2, 1, 0, 0, 0, 1, 0, 1, 0, 1, 2, 1, 0, 1, 1, 2, 0, 2, 0, 2, 1, 0, 0, 0, 2, 2, 0, 2, 0, 2, 2, 1, 0, 1, 2, 1, 0, 0, 2, 0, 0, 2, 2, 0, 0, 0, 1, 0, 0, 0, 2, 0, 2, 2, 2, 0, 0, 1, 0, 1, 2, 0, 1, 0, 2, 1, 2, 2, 2, 1, 0, 0, 0, 0, 1, 0, 2, 2, 2, 2, 0, 1, 1, 1, 1, 0, 2, 0, 2, 0, 0, 0, 2, 2, 2, 0, 2, 0, 0, 0, 1, 1, 1, 0, 1, 0, 2, 2, 1, 1, 2, 0, 0, 0, 0, 0, 2, 0, 2, 2, 1, 2, 1, 2, 2, 1, 1, 2, 1, 2, 2, 1, 0, 1, 1, 0, 2, 0, 0, 0, 2, 2, 1, 0, 1, 0, 0, 2, 1, 0, 2, 0, 0, 0, 1, 1, 1, 1, 2, 2, 2, 0, 1, 2, 0, 1, 2, 0, 0, 2, 0, 1, 2, 1, 2, 2, 2, 0, 2, 2, 0, 0, 1, 1, 2, 2, 2, 1, 2, 2, 2, 0, 0, 0, 2, 2, 2, 1, 1, 1, 2, 0, 2, 1, 1, 0, 1, 1, 0, 2, 1, 0, 0, 2, 0, 0, 1, 2, 1, 2, 0, 1, 0, 1, 1, 1, 2, 2, 0, 2, 0, 1, 2, 2, 0, 0, 0, 0, 1, 0, 2, 1, 2, 0, 0, 2, 0, 0, 0, 1, 2, 0, 0, 2, 2, 2, 2, 0, 0, 1, 0, 0, 0, 1, 0, 1, 0, 0, 1, 1, 2, 2, 0, 2, 1, 0, 0, 2, 0, 1, 2, 2, 0, 0, 2, 1, 1, 1, 1, 1, 0, 1, 1, 1, 1, 1, 0, 0, 2, 0, 0, 0, 2, 1, 0, 2, 2, 2, 1, 0, 0, 1, 1, 1, 2, 2, 1, 2, 0, 0, 2, 0, 1, 0, 1, 2, 0, 1, 1, 2, 1, 2, 0, 2, 0, 2, 1, 1, 2, 2, 2, 1, 1, 1, 1, 2, 1, 2, 2, 0, 0, 2, 0, 2, 1, 2, 1, 0, 2, 1, 1, 1, 2, 1, 1, 2, 2, 0, 1, 1, 0, 1, 2, 1, 1, 2, 0, 1, 1, 2, 0, 1, 2, 1, 1, 0, 0, 0, 1, 2, 1, 0, 2, 1, 1, 1, 1, 0, 2, 0, 1, 0, 2, 2, 0, 0, 0, 0, 2, 1, 1, 1, 2, 2, 2, 1, 1, 2, 2, 1, 1, 1, 0, 1, 2, 2, 0, 1, 1, 0, 1, 2, 0, 0, 2, 1, 2, 2, 0, 2, 0, 2, 2, 2, 0, 2, 2, 1, 2, 2, 1, 0, 2, 2, 2, 1, 1, 2, 2, 2, 2, 2, 1, 0, 2, 0, 2, 0, 0, 0, 2, 0, 2, 1, 0, 2, 1, 0, 2, 0, 1, 1, 0, 1, 1, 2, 1, 2, 1, 2, 0, 1, 1, 2, 2, 2, 0, 2, 0, 0, 2, 0, 0, 1, 0, 2, 0, 2, 0, 0, 0, 2, 2, 0, 2, 2, 0, 2, 0, 2, 2, 1, 2, 2, 1, 2, 2, 0, 2, 2, 1, 2, 0, 1, 0, 1, 1, 0, 2, 1, 0, 2, 1, 2, 2, 0, 2, 2, 1, 2, 2, 1, 1, 2, 2, 0, 0, 2, 2, 2, 1, 0, 0, 2, 2, 2, 1, 0, 1, 0, 2, 2, 0, 2, 1, 1, 0, 0, 1, 2, 1, 1, 0, 1, 1, 0, 0, 1, 0, 1, 2, 0, 0, 1, 1, 0, 0, 1, 1, 0, 2, 1, 2, 0, 2, 2, 1, 0, 1, 1, 0, 0, 2, 2, 2, 1, 2, 1, 1, 0, 1, 1, 1, 2, 0, 1, 2, 1, 0, 2, 0, 2, 1, 2, 2, 1, 0, 2, 0, 0, 0, 0, 2, 1, 0, 0, 1, 2, 0, 2, 0, 1, 0, 1, 1, 0, 1, 1, 2, 1, 1, 2, 0, 0, 1, 2, 2, 1, 1, 1, 1, 2, 0, 1, 1, 0, 1, 1, 0, 1, 0, 0, 1, 0, 0, 2, 0, 1, 1, 0, 1, 1, 2, 1, 2, 0, 2, 1, 0, 1, 0, 2, 2, 0, 2, 1, 2, 2, 0, 1, 0, 1, 1, 0, 1, 0, 1, 1, 0, 0, 2, 0, 1, 0, 1, 0, 2, 2, 2, 0, 0, 1, 0, 0, 1, 2, 0, 0, 2, 2, 2, 2, 2, 2, 0, 1, 1, 0, 1, 0, 0, 0, 1, 0, 0, 1, 0, 2, 1, 1, 1, 0, 0, 0, 0, 1, 0, 0, 1, 2, 1, 0, 1, 1, 1, 1, 1, 1, 2, 1, 2, 0, 1, 0, 1, 0, 1, 0, 1, 0, 0, 1, 0, 0, 0, 1, 2, 0, 2, 1, 0, 1, 1, 0, 0, 0, 2, 0, 0, 2, 1, 0, 0, 0, 1, 0, 0, 1, 1, 1, 1, 1, 2, 1, 0, 0, 1, 0, 2, 1, 0, 2, 2, 0, 0, 2, 0, 2, 1, 1, 0, 1, 0, 0, 0, 2, 0, 2, 2, 2, 2, 0, 2, 1, 1, 1, 1, 2, 2, 0, 1, 0, 1, 2, 0, 0, 1, 0, 0, 1, 1, 2, 1, 1, 1, 0, 0, 2, 1, 1, 1, 1, 0, 1, 0, 0, 0, 1, 2, 1, 1, 0, 2, 0, 2, 1, 2, 1, 2, 2, 1, 0, 0, 1, 2, 0, 2, 2, 0, 2, 0, 0, 1, 2, 2, 2, 2, 1, 1, 1, 1, 0, 2, 2, 2, 0, 1, 0, 1, 1, 0, 0, 2, 2, 0, 0, 2, 2, 1, 1, 1, 0, 0, 1, 0, 0, 2, 1, 1, 0, 0, 2, 0, 1, 2, 0, 2, 2, 2, 1, 0, 1, 2, 2, 2, 0, 1, 1, 0, 0, 2, 0, 0, 2, 1, 1, 0, 2, 0, 0, 2, 2, 1, 1, 0, 2, 2, 1, 1, 0, 0, 0, 0, 0, 1, 1, 0, 0, 1, 0, 2, 2, 1, 1, 2, 1, 2, 2, 0, 0, 0, 1, 1, 2, 0, 0, 2, 1, 0, 1, 1, 2, 2, 2, 1, 0, 1, 2, 0, 2, 1, 1, 1, 1, 2, 1, 2, 0, 1, 1, 1, 1, 2, 1, 0, 0, 0, 0, 0, 1, 1, 1, 1, 2, 0, 2, 0, 1, 1, 2, 1, 1, 2, 2, 2, 0, 1, 1, 0, 0, 1, 2, 1, 1, 0, 1, 2, 1, 2, 2, 2, 2, 1, 1, 2, 2, 1, 0, 2, 0, 2, 2, 2, 1, 2, 1, 0, 2, 0, 1, 2, 1, 1, 0, 0, 1, 0, 2, 2, 2, 2, 2, 2, 2, 2, 0, 0, 1, 1, 2, 1, 1, 2, 2, 2, 0, 2, 1, 0, 2, 1, 1, 0, 2, 0, 1, 2, 0, 1, 2, 1, 1, 0, 0, 1, 2, 0, 1, 1, 2, 0, 2, 2, 2, 2, 0, 1, 0, 1, 0, 2, 1, 2, 1, 0, 2, 0, 0, 0, 1, 1, 1, 1, 0, 0, 2, 1, 2, 0, 1, 0, 1, 0, 0, 2, 0, 1, 2, 0, 2, 1, 2, 1, 0, 2, 0, 1, 2, 2, 1, 0, 0, 1, 2, 2, 1, 1, 0, 2, 1, 2, 1, 1, 1, 2, 2, 2, 2, 2, 1, 2, 2, 2, 0, 2, 2, 1, 0, 2, 1, 2, 1, 2, 1, 1, 2, 2, 0, 2, 0, 2, 1, 1, 1, 0, 0, 0, 0, 1, 2, 1, 1, 0, 2, 0, 0, 2, 0, 2, 1, 1, 2, 2, 1, 1, 0, 2, 1, 0, 0, 1, 2, 2, 2, 2, 2, 0, 0, 1, 0, 2, 0, 1, 1, 2, 2, 0, 1, 0, 2, 2, 1, 1, 1, 0, 1, 1, 1, 1, 2, 2, 1, 2, 2, 2, 1, 2, 2, 0, 2, 0, 2, 2, 1, 1, 1, 0, 2, 1, 2, 0, 2, 1, 0, 1, 1, 1, 1, 2, 2, 0, 1, 2, 0, 2, 1, 0, 1, 1, 1, 1, 1, 2, 1, 0, 0, 2, 0, 0, 0, 0, 2, 1, 1, 0, 1, 0, 2, 2, 1, 1, 2, 1, 0, 0, 1, 2, 2, 1, 2, 1, 1, 2, 0, 0, 2, 0, 0, 1, 2, 2, 2, 0, 1, 0, 2, 0, 0, 2, 0, 1, 0, 2, 0, 1, 2, 1, 1, 0, 0, 2, 0, 0, 0, 0, 0, 0, 1, 0, 2, 0, 2, 2, 0, 1, 0, 0, 1, 2, 2, 0, 1, 0, 1, 2, 2, 1, 2, 0, 0, 0, 1, 2, 2, 1, 0, 1, 1, 2, 2, 2, 0, 1, 0, 1, 0, 1, 1, 2, 1, 1, 1, 2, 0, 2, 2, 0, 0, 0, 2, 2, 1, 2, 2, 0, 2, 2, 0, 1, 1, 1, 2, 2, 1, 2, 2, 2, 1, 1, 1, 2, 1, 0, 0, 2, 2, 0, 2, 0, 0, 2, 1, 0, 2, 2, 0, 0, 1, 1, 2, 0, 1, 1, 0, 1, 1, 0, 1, 2, 2, 2, 1, 1, 1, 1, 0, 1, 0, 0, 1, 1, 0, 1, 0, 2, 2, 2, 1, 0, 2, 1, 1, 2, 1, 0, 1, 1, 0, 1, 2, 0, 0, 1, 1, 0, 0, 0, 0, 2, 2, 1, 1, 2, 1, 2, 0, 0, 0, 2, 0, 1, 2, 2, 1, 1, 1, 0, 2, 0, 0, 0, 0, 1, 1, 1, 1, 0, 0, 2, 1, 0, 0, 2, 0, 1, 2, 0, 1, 2, 0, 0, 2, 2, 2, 0, 2, 1, 0, 1, 0, 2, 2, 2, 0, 2, 1, 2, 2, 0, 0, 1, 1, 1, 2, 1, 0, 2, 0, 2, 0, 0, 1, 1, 0, 1, 1, 0, 2, 2, 2, 1, 1, 1, 1, 0, 2, 2, 1, 0, 0, 1, 2, 2, 2, 1, 1, 0, 2, 0, 0, 2, 0, 0, 0, 1, 0, 0, 2, 1, 2, 1, 2, 1, 1, 0, 1, 0, 1, 0, 1, 1, 1, 2, 2, 2, 0, 0, 0, 2, 2, 1, 2, 2, 1, 1, 2, 0, 1, 1, 2, 0, 0, 0, 0, 1, 0, 2, 1, 0, 2, 2, 0, 2, 2, 0, 1, 1, 0, 2, 0, 2, 2, 1, 2, 2, 2, 1, 1, 0, 1, 1, 0, 2, 2, 2, 1, 0, 0, 0, 1, 0, 2, 1, 1, 1, 0, 1, 2, 0, 2, 1, 1, 0, 2, 2, 1, 0, 2, 2, 0, 0, 2, 2, 2, 0, 2, 1, 2, 1, 1, 1, 0, 2, 0, 1, 0, 0, 1, 0, 0, 1, 2, 0, 2, 0, 0, 0, 0, 0, 1, 0, 1, 1, 1, 0, 1, 2, 0, 0, 1, 1, 2, 1, 0, 2, 0, 1, 1, 2, 0, 1, 2, 2, 1, 1, 0, 1, 0, 2, 0, 0, 1, 1, 2, 2, 1, 2, 0, 2, 1, 1, 2, 0, 0, 0, 1, 2, 0, 1, 0, 1, 1, 2, 0, 1, 0, 1, 0, 1, 0, 2, 1, 1, 1, 0, 2, 1, 1, 0, 1, 2, 0, 1, 0, 1, 1, 1, 1, 1, 0, 1, 2, 2, 2, 0, 0, 1, 0, 2, 1, 1, 2, 0, 1, 2, 2, 1, 0, 2, 0, 2, 1, 0, 2, 2, 1, 1, 1, 1, 0, 1, 2, 2, 1, 1, 0, 0, 2, 1, 1, 1, 1, 1, 2, 0, 0, 1, 1, 0, 0, 1, 2, 2, 0, 2, 0, 1, 1, 0, 2, 0, 1, 1, 2, 2, 0, 2, 2, 1, 2, 1, 0, 2, 0, 1, 1, 0, 2, 2, 1, 2, 0, 1, 2, 2, 1, 1, 1, 1, 0, 1, 1, 1, 2, 1, 2, 1, 0, 2, 1, 2, 0, 1, 0, 2, 1, 2, 2, 2, 1, 0, 0, 2, 1, 0, 2, 1, 0, 2, 0, 0, 1, 1, 1, 0, 1, 2, 2, 2, 0, 2, 2, 2, 0, 2, 0, 0, 2, 1, 2, 1, 1, 0, 2, 0, 2, 1, 2, 0, 1, 2, 2, 1, 2, 2, 2, 0, 2, 2, 0, 0, 1, 1, 1, 2, 2, 2, 2, 2, 1, 1, 2, 1, 2, 2, 1, 2, 2, 2, 2, 0, 1, 1, 2, 2, 1, 2, 2, 2, 2, 2, 2, 2, 2, 2, 2, 2, 0, 0, 0, 0, 2, 0, 2, 0, 1, 1, 2, 1, 0, 1, 0, 1, 2, 0, 2, 2, 1, 1, 0, 1, 0, 1, 2, 0, 1, 2, 1, 2, 0, 1, 0, 2, 2, 0, 0, 1, 1, 0, 0, 1, 2, 2, 0, 1, 2, 2, 1, 2, 2, 0, 0, 0, 2, 2, 0, 1, 1, 1, 2, 1, 2, 0, 2, 1, 2, 0, 2, 2, 1, 2, 1, 1, 2, 1, 0, 0, 0, 0, 2, 1, 2, 2, 1, 0, 0, 1, 2, 2, 2, 1, 0, 2, 1, 1, 0, 2, 0, 1, 2, 0, 2, 1, 1, 2, 0, 2, 0, 1, 0, 0, 0, 0, 2, 1, 0, 2, 1, 0, 1, 1, 1, 0, 2, 2, 2, 2, 2, 1, 0, 2, 1, 0, 1, 2, 1, 1, 1, 1, 2, 0, 2, 1, 2, 0, 0, 2, 0, 0, 2, 1, 2, 1, 0, 1, 1, 2, 0, 2, 1, 0, 2, 2, 1, 1, 1, 2, 0, 2, 1, 2, 2, 2, 1, 2, 1, 0]\n",
      "Size of list 3000\n"
     ]
    }
   ],
   "source": [
    "print(calc_y_pred_bayesian)\n",
    "print(\"Size of list {}\".format(len(calc_y_pred_bayesian)))"
   ]
  },
  {
   "cell_type": "code",
   "execution_count": 38,
   "metadata": {},
   "outputs": [
    {
     "data": {
      "text/plain": [
       "array([0, 6, 6, 0, 5, 0, 6, 5, 5, 0, 6, 5, 0, 6, 5, 6, 0, 6, 6, 5, 6, 5,\n",
       "       5, 0, 0, 0, 6, 5, 5, 0, 5, 6, 5, 0, 6, 5, 6, 5, 6, 5, 6, 5, 6, 6,\n",
       "       0, 6, 5, 6, 6, 6, 6, 6, 5, 5, 5, 0, 0, 0, 6, 5, 6, 6, 5, 5, 5, 6,\n",
       "       5, 5, 5, 0, 6, 0, 5, 0, 6, 6, 5, 6, 5, 6, 6, 0, 0, 5, 6, 6, 6, 6,\n",
       "       5, 0, 0, 0, 0, 5, 6, 0, 6, 6, 0, 5])"
      ]
     },
     "execution_count": 38,
     "metadata": {},
     "output_type": "execute_result"
    }
   ],
   "source": [
    " # prediction array (using classes)\n",
    "np.array(classes)[calc_y_pred_bayesian[0:100]]"
   ]
  },
  {
   "cell_type": "code",
   "execution_count": 39,
   "metadata": {},
   "outputs": [
    {
     "name": "stdout",
     "output_type": "stream",
     "text": [
      "10k accuracy = 0.9703333333333334\n"
     ]
    }
   ],
   "source": [
    "print(\"10k accuracy =\", accuracy_score(np.array(classes)[calc_y_pred_bayesian], y_val))"
   ]
  },
  {
   "cell_type": "code",
   "execution_count": 40,
   "metadata": {},
   "outputs": [
    {
     "name": "stdout",
     "output_type": "stream",
     "text": [
      "[0, 5, 6]\n"
     ]
    }
   ],
   "source": [
    "# recall the classes we are using\n",
    "print(classes)"
   ]
  },
  {
   "cell_type": "markdown",
   "metadata": {},
   "source": [
    "The code below is printing the number of each of the digits(classes) selected. I notice that the first class chosen, always seems to have a slightly higher count than the others (~10%)."
   ]
  },
  {
   "cell_type": "code",
   "execution_count": 41,
   "metadata": {},
   "outputs": [
    {
     "name": "stdout",
     "output_type": "stream",
     "text": [
      "Counter({1: 1028, 2: 1011, 0: 961})\n"
     ]
    }
   ],
   "source": [
    "print(Counter(calc_y_pred_bayesian))"
   ]
  },
  {
   "cell_type": "markdown",
   "metadata": {},
   "source": [
    "Test to see if the estimate of 4k will result in a similar accuracy to the above '10k' value."
   ]
  },
  {
   "cell_type": "code",
   "execution_count": 42,
   "metadata": {},
   "outputs": [
    {
     "name": "stdout",
     "output_type": "stream",
     "text": [
      "Start time 11:31:55.698842\n",
      "Finish time 11:45:25.249471\n",
      "Accuracy = 0.9703333333333334\n"
     ]
    }
   ],
   "source": [
    "fourk_posterior = approx4k.sample(draws=num_of_posterior_samples)\n",
    "\n",
    "print(\"Start time {}\".format(datetime.datetime.now().time()))\n",
    "fourk_y_pred_bayesian = calc_bay_pred(X_val, classes, x_train_shape, fourk_posterior)\n",
    "print(\"Finish time {}\".format(datetime.datetime.now().time()))\n",
    "\n",
    "print(\"Accuracy =\", accuracy_score(np.array(classes)[fourk_y_pred_bayesian], y_val))"
   ]
  },
  {
   "cell_type": "markdown",
   "metadata": {},
   "source": [
    "No real difference in execution time but the accuracy is the same."
   ]
  },
  {
   "cell_type": "markdown",
   "metadata": {},
   "source": [
    "### Detect the instances (digits) in the test set that are hard to classify and remove them from the test-set <a id='diff_to_classify'></a>"
   ]
  },
  {
   "cell_type": "code",
   "execution_count": 43,
   "metadata": {},
   "outputs": [
    {
     "name": "stdout",
     "output_type": "stream",
     "text": [
      "Start time 11:45:25.261324\n",
      "Finish time 11:59:28.046690\n"
     ]
    }
   ],
   "source": [
    "print(\"Start time {}\".format(datetime.datetime.now().time()))\n",
    "\n",
    "y_predB=[]\n",
    "\n",
    "for i in range(X_val.shape[0]):\n",
    "    val=[]\n",
    "\n",
    "    for s in range(posterior['beta'].shape[0]):\n",
    "        beta = np.hstack([np.zeros((x_train_shape,1)),  posterior['beta'][s,:] ])\n",
    "        alpha = np.hstack([[0],  posterior['alpha'][s,:] ])\n",
    "        val.append(softmax((np.array([X_val[i,:].dot(beta) + alpha])))[0,:])\n",
    "\n",
    "    # mean probability\n",
    "    valmean = np.mean(val,axis=0)\n",
    "    \n",
    "    # class with maximum mean probability\n",
    "    classmax = np.argmax(valmean)\n",
    "    \n",
    "    # ranks\n",
    "    ranks = np.array(val.copy())\n",
    "    ranks   = ranks  *0 #init\n",
    "    colmax = np.argmax(np.array(val),axis=1)\n",
    "    ranks[np.arange(0,len(colmax)),colmax]=1\n",
    "     \n",
    "    y_predB.append( [classmax, valmean[classmax], np.std(ranks,axis=0)[classmax]])\n",
    "\n",
    "print(\"Finish time {}\".format(datetime.datetime.now().time()))\n",
    "\n",
    "y_predB = np.array(y_predB)"
   ]
  },
  {
   "cell_type": "markdown",
   "metadata": {},
   "source": [
    "The next cell is showing a sample and what the probabilities for each digit are for that sample. It shows a definite decision for all of them."
   ]
  },
  {
   "cell_type": "code",
   "execution_count": 44,
   "metadata": {},
   "outputs": [
    {
     "data": {
      "text/plain": [
       "array([[0.        , 0.92528729, 0.25514702],\n",
       "       [2.        , 0.99999955, 0.        ],\n",
       "       [2.        , 0.99999266, 0.        ],\n",
       "       [0.        , 0.9741557 , 0.14      ],\n",
       "       [1.        , 0.99629831, 0.04993746],\n",
       "       [0.        , 0.99999992, 0.        ],\n",
       "       [2.        , 0.98001144, 0.14      ],\n",
       "       [1.        , 0.65505732, 0.46930134],\n",
       "       [1.        , 0.99999437, 0.        ],\n",
       "       [0.        , 1.        , 0.        ]])"
      ]
     },
     "execution_count": 44,
     "metadata": {},
     "output_type": "execute_result"
    }
   ],
   "source": [
    "# prediction array\n",
    "mm = 10\n",
    "y_predB[0:mm,:]"
   ]
  },
  {
   "cell_type": "markdown",
   "metadata": {},
   "source": [
    "#### Display data from difficult sets <a id='display_diff_res'></a>\n",
    "Compare the above with below for a difficult set and you can see the probabilites are not so easy to be certain about."
   ]
  },
  {
   "cell_type": "code",
   "execution_count": 45,
   "metadata": {},
   "outputs": [
    {
     "data": {
      "text/plain": [
       "array([[1.        , 0.50252264, 0.5       ],\n",
       "       [1.        , 0.50093844, 0.5       ],\n",
       "       [0.        , 0.50240753, 0.49999375],\n",
       "       [2.        , 0.50496243, 0.49999375],\n",
       "       [2.        , 0.50064301, 0.499975  ],\n",
       "       [2.        , 0.47406371, 0.49994375],\n",
       "       [2.        , 0.48207288, 0.49994375],\n",
       "       [1.        , 0.51163682, 0.49994375],\n",
       "       [1.        , 0.49872732, 0.49989999],\n",
       "       [1.        , 0.48316648, 0.49989999]])"
      ]
     },
     "execution_count": 45,
     "metadata": {},
     "output_type": "execute_result"
    }
   ],
   "source": [
    "# sorting in descending order\n",
    "\n",
    "difficult = np.argsort(-y_predB[:,2])\n",
    "y_predB[difficult[0:mm],:]"
   ]
  },
  {
   "cell_type": "code",
   "execution_count": 46,
   "metadata": {},
   "outputs": [
    {
     "data": {
      "text/plain": [
       "array([0.93212152, 0.93162988, 0.999995  , ..., 0.99999999, 0.95418563,\n",
       "       0.99232684])"
      ]
     },
     "execution_count": 46,
     "metadata": {},
     "output_type": "execute_result"
    }
   ],
   "source": [
    "# Probability of general-recipe logistic regression in wrong instances\n",
    "prob_classmax[y_pred_logi != y_val]"
   ]
  },
  {
   "cell_type": "code",
   "execution_count": 47,
   "metadata": {},
   "outputs": [
    {
     "data": {
      "text/plain": [
       "array([[1.        , 0.81200947, 0.38418745],\n",
       "       [0.        , 0.74670319, 0.4142463 ],\n",
       "       [1.        , 0.81529135, 0.3923009 ],\n",
       "       ...,\n",
       "       [2.        , 0.82742328, 0.36890886],\n",
       "       [2.        , 0.62803306, 0.47926376],\n",
       "       [2.        , 0.92705352, 0.26339134]])"
      ]
     },
     "execution_count": 47,
     "metadata": {},
     "output_type": "execute_result"
    }
   ],
   "source": [
    "y_predB[y_pred_logi != y_val,:]"
   ]
  },
  {
   "cell_type": "markdown",
   "metadata": {},
   "source": [
    " Calculate the difficult & easy accuracy for comparison."
   ]
  },
  {
   "cell_type": "code",
   "execution_count": 48,
   "metadata": {},
   "outputs": [
    {
     "name": "stdout",
     "output_type": "stream",
     "text": [
      "Accuracy in easy instances = 1.0\n",
      "Accuracy in difficult instances = 0.81\n"
     ]
    }
   ],
   "source": [
    "\n",
    "easy = np.argsort(y_predB[:,2])\n",
    "print(\"Accuracy in easy instances =\", accuracy_score(y_pred_logi[easy[0:100]],\n",
    "                                                     y_val[easy[0:100]]))\n",
    "\n",
    "difficult = np.argsort(-y_predB[:,2])\n",
    "print(\"Accuracy in difficult instances =\", accuracy_score(y_pred_logi[difficult[0:100]],\n",
    "                                                          y_val[difficult[0:100]]))"
   ]
  },
  {
   "cell_type": "markdown",
   "metadata": {},
   "source": [
    "The above shows the difference between the accuracy of being able to clasify an easy vs difficult set and not suprisingly, there is a marked difference."
   ]
  },
  {
   "cell_type": "markdown",
   "metadata": {},
   "source": [
    "#### Display some images from both set types\n",
    "Show a sample of 20 images from the easy list in colour and grayscale and grayscale for comparison."
   ]
  },
  {
   "cell_type": "code",
   "execution_count": 49,
   "metadata": {},
   "outputs": [
    {
     "data": {
      "image/png": "[encoded data removed]",
      "text/plain": [
       "<Figure size 720x432 with 24 Axes>"
      ]
     },
     "metadata": {
      "needs_background": "light"
     },
     "output_type": "display_data"
    },
    {
     "data": {
      "image/png": "[encoded data removed]",
      "text/plain": [
       "<Figure size 720x432 with 24 Axes>"
      ]
     },
     "metadata": {
      "needs_background": "light"
     },
     "output_type": "display_data"
    }
   ],
   "source": [
    "show_images(easy, X_val, 20)\n",
    "show_images(easy, X_val, 20, image_dimension, True)"
   ]
  },
  {
   "cell_type": "markdown",
   "metadata": {},
   "source": [
    "Show a sample of 20 images from the difficult list in colour and grayscale for comparison."
   ]
  },
  {
   "cell_type": "code",
   "execution_count": 50,
   "metadata": {},
   "outputs": [
    {
     "data": {
      "image/png": "[encoded data removed]",
      "text/plain": [
       "<Figure size 720x432 with 24 Axes>"
      ]
     },
     "metadata": {
      "needs_background": "light"
     },
     "output_type": "display_data"
    },
    {
     "data": {
      "image/png": "[encoded data removed]",
      "text/plain": [
       "<Figure size 720x432 with 24 Axes>"
      ]
     },
     "metadata": {
      "needs_background": "light"
     },
     "output_type": "display_data"
    }
   ],
   "source": [
    "\n",
    "show_images(difficult, X_val, 20)\n",
    "show_images(difficult, X_val, 20, image_dimension, True)"
   ]
  },
  {
   "cell_type": "markdown",
   "metadata": {},
   "source": [
    "### Re-compute the accuracy of the general-recipe logistic regression on the remaining (non-difficult) instances  <a id='non_difficult_retest'></a>\n",
    "Basic re-run of multinomial logistic regression without difficult samples without any attempt to determine what number of difficult digits to remove."
   ]
  },
  {
   "cell_type": "code",
   "execution_count": 51,
   "metadata": {},
   "outputs": [
    {
     "name": "stdout",
     "output_type": "stream",
     "text": [
      "Original Model Accuracy 0.9636666666666667\n",
      "Number of misclassifications 109\n",
      "Retrained Model Accuracy: 0.9683333333333334\n",
      "Number of misclassifications 95\n"
     ]
    }
   ],
   "source": [
    "\n",
    "easy_model_log = LogisticRegression(random_state=0,\n",
    "                               max_iter=2000,\n",
    "                               C=100,\n",
    "                               solver='lbfgs',\n",
    "                               multi_class='multinomial').fit(X_train_shuf[easy],\n",
    "                                                              y_train_shuf[easy])\n",
    "\n",
    "# Classification:\n",
    "y_pred_log_easy = easy_model_log.predict(X_val)\n",
    "y_pred_logi_prob_easy = easy_model_log.predict_proba(X_val)\n",
    "\n",
    "# Maybe taking the maximum probability \n",
    "# in any of the classes for each observation\n",
    "prob_classmax_easy = np.max(y_pred_logi_prob_easy, axis=1)\n",
    "\n",
    "# Computing the Accuracy:\n",
    "accuracy_score(y_pred_log_easy, y_val)\n",
    "\n",
    "print(\"Original Model Accuracy {}\".format(accuracy_score(y_pred_logi, y_val)))\n",
    "print(\"Number of misclassifications {}\".format(len(prob_classmax[y_pred_logi!=y_val])))\n",
    "\n",
    "# Retrained\n",
    "print(\"Retrained Model Accuracy: {}\".format(accuracy_score(y_pred_log_easy, y_val)))\n",
    "print(\"Number of misclassifications {}\".format(len(prob_classmax_easy[y_pred_log_easy!=y_val])))"
   ]
  },
  {
   "cell_type": "markdown",
   "metadata": {},
   "source": [
    "There is a slight increase in the accuracy and decrease in the number of misclassifications for the easy set. This is expected since the number of difficult digits has been reduced.\n",
    "* For 5000 samples for each class with 100 from the posterior sample:\n",
    "    * The accuracy went from 0.9803333333333333 to 0.9816666666666667 and the misclassifications dropped from 59 to 55\n",
    "* For 2500 samples for each class with 500 from the posterior sample:\n",
    "    * The accuracy went from 0.986 to 0.9826666666666667 and the misclassifications increased from 21 to 26"
   ]
  },
  {
   "cell_type": "markdown",
   "metadata": {},
   "source": [
    "#### Attempt to get some indication of what number of difficult digits to remove <a id='difficult_to_remove'></a>\n",
    "This is from Robert Barrett in group 1."
   ]
  },
  {
   "cell_type": "code",
   "execution_count": 52,
   "metadata": {},
   "outputs": [
    {
     "name": "stdout",
     "output_type": "stream",
     "text": [
      "Start time 11:59:34.675975\n"
     ]
    },
    {
     "data": {
      "image/png": "[encoded data removed]",
      "text/plain": [
       "<Figure size 720x576 with 1 Axes>"
      ]
     },
     "metadata": {
      "needs_background": "light"
     },
     "output_type": "display_data"
    },
    {
     "name": "stdout",
     "output_type": "stream",
     "text": [
      "Finish time 12:01:13.440826\n"
     ]
    }
   ],
   "source": [
    "print(\"Start time {}\".format(datetime.datetime.now().time()))\n",
    "\n",
    "varying_results = []\n",
    "\n",
    "# Cycle through a list in steps of 50\n",
    "for i in list(np.arange(50, 3000, 50)):\n",
    "\n",
    "  var_model_log = LogisticRegression(random_state=0,\n",
    "                                 max_iter=2000,\n",
    "                                 C=100,\n",
    "                                 solver='lbfgs',\n",
    "                                 multi_class='multinomial').fit(X_train_shuf[easy[0:i]],\n",
    "                                                                y_train_shuf[easy[0:i]])\n",
    "\n",
    "  # Classification:\n",
    "  var_y_pred_log = var_model_log.predict(X_val)\n",
    "  var_y_pred_logi_prob = var_model_log.predict_proba(X_val)\n",
    "\n",
    "  # Maybe taking the maximum probability \n",
    "  # in any of the classes for each observation\n",
    "  prob_classmax = np.max(var_y_pred_logi_prob,axis=1)\n",
    "\n",
    "  # Computing the Accuracy:\n",
    "  accuracy_score(var_y_pred_log, y_val)\n",
    "  varying_results.append (accuracy_score(var_y_pred_log, y_val))\n",
    "\n",
    "\n",
    "## Graphing the varying effects on accuracy of removing varying amounts of difficult to classify samples\n",
    "varying_results.reverse()\n",
    "\n",
    "plt.figure(figsize=(10,8))\n",
    "plt.plot((list(np.arange(50, 3000, 50))), varying_results)\n",
    "\n",
    "plt.title('Accuracy score variation based on removal of difficult to classify images',fontsize=18)\n",
    "plt.xlabel('Number of Difficult Digits Removed',fontsize=18)\n",
    "plt.ylabel('Accuracy',fontsize=18)\n",
    "plt.show()\n",
    "\n",
    "print(\"Finish time {}\".format(datetime.datetime.now().time()))"
   ]
  },
  {
   "cell_type": "code",
   "execution_count": 53,
   "metadata": {},
   "outputs": [
    {
     "name": "stdout",
     "output_type": "stream",
     "text": [
      "Start time 12:01:13.451153\n"
     ]
    },
    {
     "data": {
      "image/png": "[encoded data removed]",
      "text/plain": [
       "<Figure size 720x576 with 1 Axes>"
      ]
     },
     "metadata": {
      "needs_background": "light"
     },
     "output_type": "display_data"
    },
    {
     "name": "stdout",
     "output_type": "stream",
     "text": [
      "Finish time 12:12:23.454424\n"
     ]
    }
   ],
   "source": [
    "print(\"Start time {}\".format(datetime.datetime.now().time()))\n",
    "\n",
    "varying_results = []\n",
    "\n",
    "# Cycle through a list in steps of 50\n",
    "for i in list(np.arange(50, 10000, 50)):\n",
    "\n",
    "  var_model_log = LogisticRegression(random_state=0,\n",
    "                                 max_iter=2000,\n",
    "                                 C=100,\n",
    "                                 solver='lbfgs',\n",
    "                                 multi_class='multinomial').fit(X_train_shuf[easy[0:i]],\n",
    "                                                                y_train_shuf[easy[0:i]])\n",
    "\n",
    "  # Classification:\n",
    "  var_y_pred_log = var_model_log.predict(X_val)\n",
    "  var_y_pred_logi_prob = var_model_log.predict_proba(X_val)\n",
    "\n",
    "  # Maybe taking the maximum probability \n",
    "  # in any of the classes for each observation\n",
    "  prob_classmax = np.max(var_y_pred_logi_prob,axis=1)\n",
    "\n",
    "  # Computing the Accuracy:\n",
    "  accuracy_score(var_y_pred_log, y_val)\n",
    "  varying_results.append (accuracy_score(var_y_pred_log, y_val))\n",
    "\n",
    "\n",
    "## Graphing the varying effects on accuracy of removing varying amounts of difficult to classify samples\n",
    "varying_results.reverse()\n",
    "\n",
    "plt.figure(figsize=(10,8))\n",
    "plt.plot((list(np.arange(50, 10000, 50))), varying_results)\n",
    "\n",
    "plt.title('Accuracy score variation based on removal of difficult to classify images',fontsize=18)\n",
    "plt.xlabel('Number of Difficult Digits Removed',fontsize=18)\n",
    "plt.ylabel('Accuracy',fontsize=18)\n",
    "plt.show()\n",
    "\n",
    "print(\"Finish time {}\".format(datetime.datetime.now().time()))"
   ]
  },
  {
   "cell_type": "markdown",
   "metadata": {},
   "source": [
    "On some tests, the 2 sections above show, the accuracy does not drasticly drop until the last few hundred digits for 3000 and 10,000. We can remove those few hundred images - as an average across a number of test cycles, I am estimating 750 between both graphs - and test the accuracy again below."
   ]
  },
  {
   "cell_type": "code",
   "execution_count": 54,
   "metadata": {
    "scrolled": true
   },
   "outputs": [
    {
     "name": "stdout",
     "output_type": "stream",
     "text": [
      "Model accuracy with last few difficult images removed: 0.967\n",
      "Number of misclassifications 99\n"
     ]
    }
   ],
   "source": [
    "easy_model_log2 = LogisticRegression(random_state=0,\n",
    "                               max_iter=2000,\n",
    "                               C=100,\n",
    "                               solver='lbfgs',\n",
    "                               multi_class='multinomial').fit(X_train_shuf[0:2250],\n",
    "                                                              y_train_shuf[0:2250])\n",
    "\n",
    "# Classification:\n",
    "y_pred_log_easy2 = easy_model_log2.predict(X_val)\n",
    "y_pred_logi_prob_easy2 = easy_model_log2.predict_proba(X_val)\n",
    "\n",
    "# Maybe taking the maximum probability \n",
    "# in any of the classes for each observation\n",
    "prob_classmax_easy = np.max(y_pred_logi_prob_easy2, axis=1)\n",
    "\n",
    "# Computing the Accuracy:\n",
    "accuracy_score(y_pred_log_easy2, y_val)\n",
    "\n",
    "# Retrained\n",
    "print(\"Model accuracy with last few difficult images removed: {}\".format(accuracy_score(\n",
    "    y_pred_log_easy2, y_val)))\n",
    "\n",
    "print(\"Number of misclassifications {}\".format(len(prob_classmax_easy[y_pred_log_easy2!=y_val])))"
   ]
  },
  {
   "cell_type": "markdown",
   "metadata": {},
   "source": [
    "Depending on the test I have sen both and slight increase and decrease on the accuracy when these images have been removed, which would suggest that depending on the digits being tested against, some had sets of digits which were more difficult to identify and for those, further analysis would be needed."
   ]
  },
  {
   "cell_type": "code",
   "execution_count": 55,
   "metadata": {},
   "outputs": [
    {
     "name": "stdout",
     "output_type": "stream",
     "text": [
      "Etivity-1 completion time 12:12:26.044073\n"
     ]
    }
   ],
   "source": [
    "print(\"Etivity-1 completion time {}\".format(datetime.datetime.now().time()))"
   ]
  },
  {
   "cell_type": "markdown",
   "metadata": {
    "id": "NcshsLOGRPrk"
   },
   "source": [
    "## Summary"
   ]
  },
  {
   "cell_type": "markdown",
   "metadata": {
    "id": "XTc4pYKGRR60"
   },
   "source": [
    "#### Basic understanding\n",
    "As I understand it, the etivity ask is to use posterior probability (Bayes - which is an adjustment on prior probability) which is the probability of an outcome given we have new information, to be able classify multiple types of events (not just true/false, events being hand written digits in this case) for the MNIST dataset and it is multinomial because the dataset is a set of handwritten digits from 0 - 9 and not just a set of 2 digits.<br>\n",
    "\n",
    "#### Peer discussion\n",
    "I found the questions and answers in group forums on the use of the other performance statistics (confusion matrix, F1 score etc) and softmax function and the code around it to be very helpful in trying to understand its use. I added that information to my own submission as well as information from the group 1 discussion around how to determine what the difficult digits are and how to determine a good amount to remove.\n",
    "\n",
    "#### General\n",
    "In relation to using Google Colab, I found the constant dissconnection issues I was having frustrating and I also experienced it disconnecting during the middle of a model calculation with a large number of samples. For this reason I have reverted to using a local notebook only.\n",
    "\n",
    "The dataset [dataset](#dataset) used was a collection of handwritten digits totally 60,000 with 10,000 selected as the testing set. I downloaded and printed some of these from the original source (see [data_description](#data_description)) to see what they were like. It was then [normalised](#normalised) to reduce it to a common scale between 0 and 1.\n",
    "\n",
    "The [class_distro](#class_distro) shows a fairly even spread of the digits across the dataset, so this makes comparing different sets of 3 classes worthwhile. During various tests, I did see a good mix of misclassified digits - see '[display_diff_res](#display_diff_res) data from difficult sets' for some of these - so I think the overall set does contain a good range from easy to difficult digits to identify.\n",
    "\n",
    "I used 3 different types of randomly selected digits from the set of 10 for each test and I also tested with different number of samples for each of those along with different sample size from the generated posterior probability set. Not surprisingly, the 2 variables that had the greatest impact in execution time were the number of samples used from the posterior list and the number of digit/class instances that were used. These are detailed in the [gen_vars](#gen_vars) section near the top. The details of the times are in the [gen_mlr_times](#gen_mlr_times) markdown cell above. Increasing the number of class instances had a much larger effect on the execution time and there was no major increase in the reported accuracy with the much larger class instance size.\n",
    "\n",
    "Not setting the seed allowed me to see the accuracy etc with different sets of 3 digits and they all ranged from ~93% - ~98% depending on sample size used etc. Using the same sample sizes for different sets resulted in very similar results, so for me using 5000 samples for each digit and 1000 from the resulting posterior sample set was not worth the large increase in run time when compared to using 2500 & 500 respectively.\n",
    "\n",
    "The data was initially tested with a general multinomial logistic regression algorithm (section [gen_multinomial_lr](#gen_multinomial_lr)) which would then be compared with Probabilistic MLR. I did try increasing 1 parameter of that algorithm but this proved to have no effect. I also measured the performance of the MLR algorithm, see [model_stats](#model_stats) and [confusion_matrix](#confusion_matrix) sections. The precision, recall and F1-score for all tests were in the high 90's so indicates that the performance and accuracy are generally good.\n",
    "\n",
    "Softmax is referred to as an activation function (defines an output given a set of inputs) and is used in this instance as the results are generally greater than zero as it uses the exponential. That is (> 0) required as you can't use zero or negative values to get probabilities. The use of the exponential helps to increase the probability of the largest score and decrease the probability of the smallest score. Some randomly selected test images were then displayed in the [softmax_image](#softmax_image) section. On some tests, incorrectly classified images were seen, most being from 2 - 9 range of digits.\n",
    "\n",
    "The data was then tested with a probabilistic_multinomial_regression algorithm in section [probabilistic_ml_regression](#probabilistic_ml_regression). The purpose behind this was to add some prior knowledge of the classifications to the see what effect this would have. On some occasions, depending on the set of digits chosen, I did see a small improvement in the reported accuracy.\n",
    "\n",
    "The hard to classify digits were then removed (see section [diff_to_classify](#diff_to_classify)) and the accuracy measured again in section [non_difficult_retest](#non_difficult_retest). The accuracy was then compared with the first test. There was as expected a noticible improvement in the accuracy when the difficult images were removed.\n",
    "\n",
    "Despite varying the 3 classes chosen and the number of samples used, I did not see a major change in the accuracy of the model when only comparing the easier to classify datasets on each test. This could be down to the way I chose to find the difficult sets to identify and I note there is some discussion in the other groups on this also. I have used some of their methods in my notebook to measure changes in accuracy and when a selection of what was deemed to be difficult to identify images were removed in section [difficult_to_remove](#difficult_to_remove), the accuracy did improve but only by a small amount.\n",
    "\n",
    "In conclusion, the application of MLR and the addition of posterior probability to this dataset did show that these performed well on the digits dataset and the ability of the PMLR to identify difficult sets could allow one to infer greater confidence in its results.\n",
    "\n",
    "I think areas that are worth further exploration are:\n",
    "* A more complete comparison of different sets of samples from the complete set of digits available along with larger datasets being applied to both the general MLR and the posterior probability algorithms. Producing a table of results for comparision would give grreater insight and confidence into the accuracy of these methods across a larger dataset.\n",
    "* Is the correct measure of what a difficult digit could be and how to feed that data into the model used for better overall accuracy."
   ]
  },
  {
   "cell_type": "markdown",
   "metadata": {},
   "source": [
    "## References\n",
    "These references are a combination of my own search and from posts by others.\n",
    "\n",
    "### Websites\n",
    "#### https://en.wikipedia.org/wiki/Maximum_likelihood_estimation\n",
    "#### https://en.wikipedia.org/wiki/Posterior_probability\n",
    "#### https://towardsdatascience.com/probability-concepts-explained-maximum-likelihood-estimation-c7b4342fdbb1\n",
    "#### https://towardsdatascience.com/a-gentle-introduction-to-maximum-likelihood-estimation-9fbff27ea12f\n",
    "#### https://towardsdatascience.com/introduction-to-bayesian-logistic-regression-7e39a0bae691\n",
    "#### https://pandas.pydata.org/docs/reference/api/pandas.read_pickle.html\n",
    "#### https://docs.pymc.io/\n",
    "#### https://machinelearningmastery.com/softmax-activation-function-with-python/\n",
    "#### https://machinelearningmastery.com/confusion-matrix-machine-learning/\n",
    "#### https://datascience.stackexchange.com/questions/23159/in-softmax-classifier-why-use-exp-function-to-do-normalization\n",
    "#### https://statquest.org/\n",
    "#### http://docs.zeligproject.org/articles/zelig_mlogitbayes.html\n",
    "#### https://www.statisticshowto.com/\n",
    "#### https://www.mathsisfun.com/sets/symbols.html\n",
    "\n",
    "\n",
    "### Books/Papers\n",
    "#### Salvatier J., Wiecki T.V., Fonnesbeck C. (2016) Probabilistic programming in Python using PyMC3. PeerJ Computer Science 2:e55 DOI: 10.7717/peerj-cs.55.\n",
    "#### David W.H. Swenson, \"Statistics\" http://www.cchem.berkeley.edu/chem120a/extra/statistics.pdf\n",
    "#### Automatic Differentiation Variational Inference https://arxiv.org/pdf/1603.00788.pdf"
   ]
  },
  {
   "cell_type": "code",
   "execution_count": 56,
   "metadata": {},
   "outputs": [],
   "source": [
    "#%%capture\n",
    "#!wget -nc https://raw.githubusercontent.com/brpy/colab-pdf/master/colab_pdf.py\n",
    "#from colab_pdf import colab_pdf\n",
    "#colab_pdf('Etivity_1_JohnHayes_9309888.ipynb')"
   ]
  },
  {
   "cell_type": "markdown",
   "metadata": {},
   "source": [
    "The pdf output from above is not as good as a straight print to pdf using \n",
    "    `jupyter nbconvert --to webpdf --allow-chromium-download ET5003_Etivity1_JohnHayes_9309888.ipynb`"
   ]
  },
  {
   "cell_type": "code",
   "execution_count": null,
   "metadata": {},
   "outputs": [],
   "source": []
  }
 ],
 "metadata": {
  "colab": {
   "name": "Etivity_1_template.ipynb",
   "provenance": []
  },
  "kernelspec": {
   "display_name": "Python 3 (ipykernel)",
   "language": "python",
   "name": "python3"
  },
  "language_info": {
   "codemirror_mode": {
    "name": "ipython",
    "version": 3
   },
   "file_extension": ".py",
   "mimetype": "text/x-python",
   "name": "python",
   "nbconvert_exporter": "python",
   "pygments_lexer": "ipython3",
   "version": "3.8.10"
  }
 },
 "nbformat": 4,
 "nbformat_minor": 1
}
