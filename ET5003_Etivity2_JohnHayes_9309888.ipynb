{
 "cells": [
  {
   "cell_type": "markdown",
   "metadata": {
    "id": "930vlW5BrOtq"
   },
   "source": [
    "<div>\n",
    "<img src=\"https://drive.google.com/uc?export=view&id=1vK33e_EqaHgBHcbRV_m38hx6IkG0blK_\" width=\"350\"/>\n",
    "</div> \n",
    "\n",
    "#**Artificial Intelligence - MSc**\n",
    "##ET5003 - MACHINE LEARNING APPLICATIONS \n",
    "\n",
    "###Instructor: Enrique Naredo\n",
    "###ET5003_Etivity-2"
   ]
  },
  {
   "cell_type": "code",
   "execution_count": 1,
   "metadata": {
    "cellView": "form",
    "id": "LqXD_IwUQuBF"
   },
   "outputs": [],
   "source": [
    "#@title Current Date\n",
    "Today = '2021-09-22' #@param {type:\"date\"}\n"
   ]
  },
  {
   "cell_type": "code",
   "execution_count": 2,
   "metadata": {
    "cellView": "form",
    "id": "uzDKau31OjVO"
   },
   "outputs": [],
   "source": [
    "#@markdown ---\n",
    "#@markdown ### Enter your details here:\n",
    "Student_ID = \"John Hayes\" #@param {type:\"string\"}\n",
    "Student_full_name = \"9309888\" #@param {type:\"string\"}\n",
    "#@markdown ---"
   ]
  },
  {
   "cell_type": "code",
   "execution_count": 3,
   "metadata": {
    "cellView": "form",
    "id": "r39xGZckTpKx"
   },
   "outputs": [],
   "source": [
    "#@title Notebook information\n",
    "Notebook_type = 'Etivity' #@param [\"Example\", \"Lab\", \"Practice\", \"Etivity\", \"Assignment\", \"Exam\"]\n",
    "Version = 'Draft' #@param [\"Draft\", \"Final\"] {type:\"raw\"}\n",
    "Submission = False #@param {type:\"boolean\"}"
   ]
  },
  {
   "cell_type": "markdown",
   "metadata": {
    "id": "_A0Z6S-r6DpA"
   },
   "source": [
    "# INTRODUCTION"
   ]
  },
  {
   "cell_type": "markdown",
   "metadata": {
    "id": "QkRchZtf6IV-"
   },
   "source": [
    "**Piecewise regression**, extract from [Wikipedia](https://en.wikipedia.org/wiki/Segmented_regression):\n",
    "\n",
    "Segmented regression, also known as piecewise regression or broken-stick regression, is a method in regression analysis in which the independent variable is partitioned into intervals and a separate line segment is fit to each interval. \n",
    "\n",
    "* Segmented regression analysis can also be performed on \n",
    "multivariate data by partitioning the various independent variables. \n",
    "* Segmented regression is useful when the independent variables, clustered into different groups, exhibit different relationships between the variables in these regions. \n",
    "\n",
    "* The boundaries between the segments are breakpoints.\n",
    "\n",
    "* Segmented linear regression is segmented regression whereby the relations in the intervals are obtained by linear regression. "
   ]
  },
  {
   "cell_type": "markdown",
   "metadata": {
    "id": "aajlS0WCJ8pm"
   },
   "source": [
    "***The goal is to use advanced Machine Learning methods to predict House price.***"
   ]
  },
  {
   "cell_type": "markdown",
   "metadata": {
    "id": "Wg7VCbX77eAA"
   },
   "source": [
    "## Imports"
   ]
  },
  {
   "cell_type": "code",
   "execution_count": 4,
   "metadata": {
    "id": "iFFLThrpwibd"
   },
   "outputs": [],
   "source": [
    "# Suppressing Warnings:\n",
    "import warnings\n",
    "warnings.filterwarnings(\"ignore\")"
   ]
  },
  {
   "cell_type": "code",
   "execution_count": 5,
   "metadata": {
    "id": "d1770_fNrCWn"
   },
   "outputs": [
    {
     "name": "stderr",
     "output_type": "stream",
     "text": [
      "WARNING (theano.tensor.blas): Using NumPy C-API based implementation for BLAS functions.\n"
     ]
    }
   ],
   "source": [
    "import pandas as pd\n",
    "import matplotlib.pyplot as plt\n",
    "import numpy as np\n",
    "import pymc3 as pm\n",
    "import arviz as az\n",
    "\n",
    "from sklearn.preprocessing import StandardScaler\n",
    "from sklearn.mixture import GaussianMixture"
   ]
  },
  {
   "cell_type": "code",
   "execution_count": 6,
   "metadata": {
    "id": "sYPJU_Y6O6Dq"
   },
   "outputs": [],
   "source": [
    "# to plot\n",
    "import matplotlib.colors\n",
    "from mpl_toolkits.mplot3d import Axes3D\n",
    "\n",
    "# to generate classification, regression and clustering datasets\n",
    "import sklearn.datasets as dt\n",
    "\n",
    "# to create data frames\n",
    "from pandas import DataFrame\n",
    "\n",
    "# to generate data from an existing dataset\n",
    "from sklearn.neighbors import KernelDensity\n",
    "from sklearn.model_selection import GridSearchCV\n",
    "from sklearn.datasets import fetch_openml\n",
    "\n",
    "import datetime"
   ]
  },
  {
   "cell_type": "markdown",
   "metadata": {},
   "source": [
    "#### Any functions that will be used later on"
   ]
  },
  {
   "cell_type": "code",
   "execution_count": 7,
   "metadata": {},
   "outputs": [],
   "source": [
    "def run_model(x_data, y_data, iterations, sample_size):\n",
    "    \"\"\"\n",
    "    Execute the model for a given data set\n",
    "    \"\"\"\n",
    "    with pm.Model() as model:\n",
    "        \n",
    "        # prior over the parameters of linear regression\n",
    "        alpha = pm.Normal('alpha', mu=0, sigma=30)\n",
    "  \n",
    "        # we have a beta for each column of Xn0\n",
    "        beta = pm.Normal('beta', mu=0, sigma=30, shape=x_data.shape[1])\n",
    "  \n",
    "        # prior over the variance of the noise\n",
    "        sigma = pm.HalfCauchy('sigma_n', 5)\n",
    "  \n",
    "        # linear regression relationship\n",
    "        # linear regression model in matrix form\n",
    "        mu = alpha + pm.math.dot(beta, x_data.T)\n",
    "        \n",
    "        # likelihood, be sure that observed is a 1d vector\n",
    "        like = pm.Normal('like', mu=mu, sigma=sigma, observed=y_data[:,0])\n",
    "\n",
    "    with model:\n",
    "        \n",
    "        # iterations of the algorithm\n",
    "        approximation = pm.fit(iterations,method='advi')\n",
    "\n",
    "    # samples from the posterior   \n",
    "    posterior = approximation.sample(sample_size)\n",
    "    \n",
    "    return posterior, approximation\n",
    "\n",
    "#------------------------------------------------------------\n",
    "def random_replace_with_nan(dataframe, frac):\n",
    "    \"\"\"\n",
    "    Replace some values randomly with nan\n",
    "    \"\"\"\n",
    "  \n",
    "    # requires numpy & pandas\n",
    "    rows = np.random.choice(range(dataframe.shape[0]), int(dataframe.shape[0]*frac), replace=False)\n",
    "    cols = np.random.choice(range(0,dataframe.shape[1]-1), size=len(rows), replace=True)\n",
    "    \n",
    "    to_repl = [np.nan for i, col in zip(rows, cols)] \n",
    "      \n",
    "    # method used to cast a pandas object to a specified dtype\n",
    "    rnan = dataframe.astype(object).to_numpy() \n",
    "    rnan[rows, cols] = to_repl\n",
    "    \n",
    "    # returns data frame with nans\n",
    "    return DataFrame(rnan, index=dataframe.index, columns=dataframe.columns)\n",
    "\n",
    "#------------------------------------------------------------\n",
    "def replace_with_nan(dataframe, frac):\n",
    "    return dataframe\n",
    "\n",
    "#------------------------------------------------------------\n",
    "def ppc(alpha, beta, sigma, X, nsamples=500):\n",
    "    \"\"\"\n",
    "    # Posterior predictive checks (PPCs)\n",
    "    \"\"\"\n",
    "    \n",
    "    #we select nsamples random samples from the posterior\n",
    "    ind = np.random.randint(0,beta.shape[0],size=nsamples)\n",
    "    alphai = alpha[ind]\n",
    "    betai = beta[ind,:]\n",
    "    sigmai = sigma[ind]\n",
    "\n",
    "    Ypred = np.zeros((nsamples,X.shape[0]))\n",
    "    for i in range(X.shape[0]):\n",
    "        \n",
    "        # we generate data from linear model\n",
    "        y_pred = alphai + np.dot(betai, X[i:i+1,:].T).T +np.random.randn(len(sigmai))*sigmai\n",
    "        Ypred[:,i]=y_pred[0,:]\n",
    "        \n",
    "    return Ypred\n",
    "\n",
    "#------------------------------------------------------------\n",
    "def train_cluster(x_train, x_test):\n",
    "    \"\"\"\n",
    "    Train the cluster\n",
    "    \"\"\"\n",
    "    \n",
    "    Xn = x_train[clusters_train==0,:]\n",
    "    Xtestn = x_test[clusters_test==0,:]\n",
    "\n",
    "    ylog = np.log(ys_train.astype('float')[clusters_train==0,:])\n",
    "    yscaler = StandardScaler().fit(ylog)\n",
    "    yn = yscaler.transform(ylog)\n",
    "    \n",
    "    return ylog, yscaler, Xn, yn\n",
    "\n",
    "#------------------------------------------------------------\n",
    "def cluster_sim(posterior, Xn, num_samples=200):\n",
    "    \"\"\"\n",
    "    display a prediction for a single cluster\n",
    "    \"\"\"\n",
    "    \n",
    "    # Simulation\n",
    "    Ypred = yscaler.inverse_transform(ppc(posterior['alpha'],\n",
    "                                            posterior['beta'],\n",
    "                                            posterior['sigma_n'],\n",
    "                                            Xn,\n",
    "                                            nsamples=num_samples))\n",
    "    for i in range(Ypred.shape[0]):\n",
    "        az.plot_dist( Ypred[i,:],color='r',plot_kwargs={\"linewidth\": 0.2})\n",
    "        \n",
    "    az.plot_dist(Ypred[i,:],color='r',plot_kwargs={\"linewidth\": 0.2}, label=\"prediction\")\n",
    "    #plt.plot(np.linspace(-8,8,100),norm.pdf(np.linspace(-8,8,100),df=np.mean(posterior_1['nu'])))\n",
    "    #plt.xlim([0,10e7])\n",
    "    \n",
    "    az.plot_dist(ylog,label='true observations');\n",
    "    plt.legend()\n",
    "    plt.xlabel(\"log(y) - output variable\")\n",
    "    plt.ylabel(\"density plot\");\n",
    "    "
   ]
  },
  {
   "cell_type": "markdown",
   "metadata": {},
   "source": [
    "#### Some variables that will be used throughout"
   ]
  },
  {
   "cell_type": "code",
   "execution_count": 8,
   "metadata": {
    "id": "6MUJdlxSPSMM"
   },
   "outputs": [],
   "source": [
    "num_iter = 50000\n",
    "sample_size = 5000\n",
    "num_of_models = 4\n",
    "\n",
    "# Define the seed so that results can be reproduced\n",
    "seed = 11\n",
    "rand_state = 11\n",
    "\n",
    "# Define the color maps for plots\n",
    "color_map = plt.cm.get_cmap('RdYlBu')\n",
    "color_map_discrete = matplotlib.colors.LinearSegmentedColormap.from_list(\"\", [\"red\",\"cyan\",\"magenta\",\"blue\"])"
   ]
  },
  {
   "cell_type": "markdown",
   "metadata": {
    "id": "WL91ShB19RPw"
   },
   "source": [
    "# Dataset <a id='the_dataset'></a>"
   ]
  },
  {
   "cell_type": "markdown",
   "metadata": {
    "id": "ESg5DGKWJSOf"
   },
   "source": [
    "Extract from this [paper](https://ieeexplore.ieee.org/document/9300074):\n",
    "\n",
    "* House prices are a significant impression of the economy, and its value ranges are of great concerns for the clients and property dealers. \n",
    "\n",
    "* Housing price escalate every year that eventually reinforced the need of strategy or technique that could predict house prices in future. \n",
    "\n",
    "* There are certain factors that influence house prices including physical conditions, locations, number of bedrooms and others.\n"
   ]
  },
  {
   "cell_type": "markdown",
   "metadata": {
    "id": "a8Y2pf50FlYL"
   },
   "source": [
    "1. [Download the dataset](https://github.com/UL-ET5003/ET5003_SEM1_2021-2/tree/main/Week-3). \n",
    "\n",
    "2. Upload the dataset into your folder.\n",
    "\n"
   ]
  },
  {
   "cell_type": "markdown",
   "metadata": {
    "id": "FMkdCQEmKTof"
   },
   "source": [
    "The challenge is to predict the final price of each house."
   ]
  },
  {
   "cell_type": "markdown",
   "metadata": {},
   "source": [
    "#### TODO\n",
    "* Think about using it to predict house price crash as well - how much you could loose and possibly what the bottom for a set of houses in an area might be ?\n",
    "    * sq feet, \n",
    "    * number of beds vs bathrooms - is there a relationship between those 2 vars ?\n",
    "    * Garden size available ?.\n",
    "    * Apartment vs semi or fully detached\n",
    "    * Investor will also want rental values for an area.\n",
    "    * Sub-concious bias given my age/profile and the subject matter ?\n",
    "* Can itbe useful to figure how long a rise/fall might last ? - what other factors would you need for this ?\n",
    "* Also state that you are taking the data in each column at face value.\n",
    "* You will need to manually extract some data from the 'description' column - how common is certain types of data in that column ?\n",
    "* How to estimate the various breakpoints ? - typically not know before the analysis.\n",
    "* Are the breakpoints continuous in this case ? - maybe not\n",
    "* Compare each of the various different vars above to the true figure to see how well they map"
   ]
  },
  {
   "cell_type": "markdown",
   "metadata": {},
   "source": [
    "#### Load the dataset <a id='loading_dataset'></a>\n",
    "Using a generic loader for local and colab based notebook only works when the data has a unique ID such as the MNIST dataset. The house data doesn't AFAIK"
   ]
  },
  {
   "cell_type": "code",
   "execution_count": 9,
   "metadata": {},
   "outputs": [
    {
     "name": "stdout",
     "output_type": "stream",
     "text": [
      "Testing data (2982, 17)\n",
      "Test data (500, 16)\n",
      "True prices data (500, 2)\n"
     ]
    }
   ],
   "source": [
    "RunningInCOLAB = 'google.colab' in str(get_ipython())\n",
    "\n",
    "if RunningInCOLAB:\n",
    "    from google.colab import drive\n",
    "    drive.mount('/content/drive')\n",
    "    \n",
    "    # Path, copy the path from your Drive\n",
    "    Path = '/content/drive/MyDrive/Colab Notebooks/Etivity2-Data/'\n",
    "    \n",
    "else:\n",
    "    Path = \"./\"\n",
    "    \n",
    "# House price data from csv files\n",
    "train_data = Path + 'house_train.csv'\n",
    "test_data = Path + 'house_test.csv'\n",
    "true_price_data = Path + 'true_price.csv'\n",
    "\n",
    "# Can't drop the ad id as it is linked to the true data\n",
    "# Training data\n",
    "df_orig_train_data = pd.read_csv(train_data)\n",
    "X_train = df_orig_train_data.values\n",
    "#y_train = df_train_data.values\n",
    "print(\"Testing data {}\".format(X_train.shape))\n",
    "\n",
    "# Test data\n",
    "df_test_data = pd.read_csv(test_data)\n",
    "X_test = df_test_data.values\n",
    "#y_test = df_test_data.ad_id.values\n",
    "print(\"Test data {}\".format(X_test.shape))\n",
    "\n",
    "# True data\n",
    "df_true_cost = pd.read_csv(true_price_data)\n",
    "X_true = df_true_cost.values\n",
    "#y_true = df_true_data.Id.values\n",
    "print(\"True prices data {}\".format(X_true.shape))\n",
    "\n",
    "#image_dimension = int(np.sqrt(X_test.shape[1]))\n",
    "#print(\"Using {} as image dimension\".format(image_dimension))"
   ]
  },
  {
   "cell_type": "markdown",
   "metadata": {},
   "source": [
    "#### Features to use\n",
    "Having looked at all the headings (`ad_id, area, bathrooms, beds, ber_classification, county, description_block, environment, facility, features, latitude, longitude, no_of_units, price, property_category, property_type, surface`) and the data for each of those in the training set, I have decided to use:\n",
    "* `latitude` and `lognitue` as suggested by the Etivity\n",
    "* `area` and `county`\n",
    "* `area` and `county` and `no_of_units`\n",
    "\n",
    "I am not using Number of bedrooms or bathrooms as they have quite a number of empty values."
   ]
  },
  {
   "cell_type": "markdown",
   "metadata": {},
   "source": [
    "#### Clean the dataset - remove Nan and possible outliers"
   ]
  },
  {
   "cell_type": "code",
   "execution_count": 10,
   "metadata": {},
   "outputs": [],
   "source": [
    "# TODO Empty placeholder for now\n",
    "df_train_data = replace_with_nan(df_orig_train_data, 0.0)"
   ]
  },
  {
   "cell_type": "markdown",
   "metadata": {
    "id": "2PMoPLlUJ1Ly"
   },
   "source": [
    "## Training & Test Data"
   ]
  },
  {
   "cell_type": "code",
   "execution_count": 11,
   "metadata": {
    "id": "loLTHklwKGnV"
   },
   "outputs": [],
   "source": [
    "# split data into training and test\n",
    "#from sklearn.model_selection import train_test_split\n",
    "\n",
    "# training: 70% (0.7), test: 30% (0.3) \n",
    "# you could try any other combination \n",
    "# but consider 50% of training as the low boundary\n",
    "#X_train,X_test,y_train,y_test = train_test_split(X, y, test_size=0.3)"
   ]
  },
  {
   "cell_type": "markdown",
   "metadata": {
    "id": "ztBkSZluye87"
   },
   "source": [
    "### Train dataset <a id='training_dataset'></a>"
   ]
  },
  {
   "cell_type": "code",
   "execution_count": 12,
   "metadata": {
    "id": "4rosmH4665uJ"
   },
   "outputs": [],
   "source": [
    "# training dataset: \n",
    "#training_file = syntPath+filename1\n",
    "# test dataset: \n",
    "#testing_file = syntPath+filename2\n",
    "# cost dataset: \n",
    "#cost_file = syntPath+filename3"
   ]
  },
  {
   "cell_type": "code",
   "execution_count": 13,
   "metadata": {
    "id": "6XUFUPABMHfF"
   },
   "outputs": [
    {
     "data": {
      "text/html": [
       "<div>\n",
       "<style scoped>\n",
       "    .dataframe tbody tr th:only-of-type {\n",
       "        vertical-align: middle;\n",
       "    }\n",
       "\n",
       "    .dataframe tbody tr th {\n",
       "        vertical-align: top;\n",
       "    }\n",
       "\n",
       "    .dataframe thead th {\n",
       "        text-align: right;\n",
       "    }\n",
       "</style>\n",
       "<table border=\"1\" class=\"dataframe\">\n",
       "  <thead>\n",
       "    <tr style=\"text-align: right;\">\n",
       "      <th></th>\n",
       "      <th>ad_id</th>\n",
       "      <th>area</th>\n",
       "      <th>bathrooms</th>\n",
       "      <th>beds</th>\n",
       "      <th>ber_classification</th>\n",
       "      <th>county</th>\n",
       "      <th>description_block</th>\n",
       "      <th>environment</th>\n",
       "      <th>facility</th>\n",
       "      <th>features</th>\n",
       "      <th>latitude</th>\n",
       "      <th>longitude</th>\n",
       "      <th>no_of_units</th>\n",
       "      <th>price</th>\n",
       "      <th>property_category</th>\n",
       "      <th>property_type</th>\n",
       "      <th>surface</th>\n",
       "    </tr>\n",
       "  </thead>\n",
       "  <tbody>\n",
       "    <tr>\n",
       "      <th>0</th>\n",
       "      <td>996887</td>\n",
       "      <td>Portmarnock</td>\n",
       "      <td>NaN</td>\n",
       "      <td>NaN</td>\n",
       "      <td>NaN</td>\n",
       "      <td>Dublin</td>\n",
       "      <td>A SELECTION OF 4 AND 5 BEDROOM FAMILY HOMES LO...</td>\n",
       "      <td>prod</td>\n",
       "      <td>NaN</td>\n",
       "      <td>None</td>\n",
       "      <td>53.418216</td>\n",
       "      <td>-6.149329</td>\n",
       "      <td>18.0</td>\n",
       "      <td>NaN</td>\n",
       "      <td>new_development_parent</td>\n",
       "      <td>NaN</td>\n",
       "      <td>NaN</td>\n",
       "    </tr>\n",
       "    <tr>\n",
       "      <th>1</th>\n",
       "      <td>999327</td>\n",
       "      <td>Lucan</td>\n",
       "      <td>NaN</td>\n",
       "      <td>NaN</td>\n",
       "      <td>NaN</td>\n",
       "      <td>Dublin</td>\n",
       "      <td>**Last 2 remaining houses for sale ***\\n\\nOn v...</td>\n",
       "      <td>prod</td>\n",
       "      <td>NaN</td>\n",
       "      <td>None</td>\n",
       "      <td>53.364917</td>\n",
       "      <td>-6.454935</td>\n",
       "      <td>3.0</td>\n",
       "      <td>NaN</td>\n",
       "      <td>new_development_parent</td>\n",
       "      <td>NaN</td>\n",
       "      <td>NaN</td>\n",
       "    </tr>\n",
       "    <tr>\n",
       "      <th>2</th>\n",
       "      <td>999559</td>\n",
       "      <td>Rathfarnham</td>\n",
       "      <td>NaN</td>\n",
       "      <td>NaN</td>\n",
       "      <td>NaN</td>\n",
       "      <td>Dublin</td>\n",
       "      <td>Final 4 &amp;amp; 5 Bedroom Homes for Sale\\n\\nOn V...</td>\n",
       "      <td>prod</td>\n",
       "      <td>NaN</td>\n",
       "      <td>None</td>\n",
       "      <td>53.273447</td>\n",
       "      <td>-6.313821</td>\n",
       "      <td>3.0</td>\n",
       "      <td>NaN</td>\n",
       "      <td>new_development_parent</td>\n",
       "      <td>NaN</td>\n",
       "      <td>NaN</td>\n",
       "    </tr>\n",
       "    <tr>\n",
       "      <th>3</th>\n",
       "      <td>9102986</td>\n",
       "      <td>Balbriggan</td>\n",
       "      <td>NaN</td>\n",
       "      <td>NaN</td>\n",
       "      <td>NaN</td>\n",
       "      <td>Dublin</td>\n",
       "      <td>Glenveagh Taylor Hill, Balbriggan\\n\\r\\n*Ideal ...</td>\n",
       "      <td>prod</td>\n",
       "      <td>NaN</td>\n",
       "      <td>None</td>\n",
       "      <td>53.608167</td>\n",
       "      <td>-6.210914</td>\n",
       "      <td>30.0</td>\n",
       "      <td>NaN</td>\n",
       "      <td>new_development_parent</td>\n",
       "      <td>NaN</td>\n",
       "      <td>NaN</td>\n",
       "    </tr>\n",
       "    <tr>\n",
       "      <th>4</th>\n",
       "      <td>9106028</td>\n",
       "      <td>Foxrock</td>\n",
       "      <td>NaN</td>\n",
       "      <td>NaN</td>\n",
       "      <td>NaN</td>\n",
       "      <td>Dublin</td>\n",
       "      <td>*New phase launching this weekend Sat &amp;amp; Su...</td>\n",
       "      <td>prod</td>\n",
       "      <td>NaN</td>\n",
       "      <td>None</td>\n",
       "      <td>53.262531</td>\n",
       "      <td>-6.181527</td>\n",
       "      <td>8.0</td>\n",
       "      <td>NaN</td>\n",
       "      <td>new_development_parent</td>\n",
       "      <td>NaN</td>\n",
       "      <td>NaN</td>\n",
       "    </tr>\n",
       "  </tbody>\n",
       "</table>\n",
       "</div>"
      ],
      "text/plain": [
       "     ad_id         area  bathrooms  beds ber_classification  county  \\\n",
       "0   996887  Portmarnock        NaN   NaN                NaN  Dublin   \n",
       "1   999327        Lucan        NaN   NaN                NaN  Dublin   \n",
       "2   999559  Rathfarnham        NaN   NaN                NaN  Dublin   \n",
       "3  9102986   Balbriggan        NaN   NaN                NaN  Dublin   \n",
       "4  9106028      Foxrock        NaN   NaN                NaN  Dublin   \n",
       "\n",
       "                                   description_block environment facility  \\\n",
       "0  A SELECTION OF 4 AND 5 BEDROOM FAMILY HOMES LO...        prod      NaN   \n",
       "1  **Last 2 remaining houses for sale ***\\n\\nOn v...        prod      NaN   \n",
       "2  Final 4 &amp; 5 Bedroom Homes for Sale\\n\\nOn V...        prod      NaN   \n",
       "3  Glenveagh Taylor Hill, Balbriggan\\n\\r\\n*Ideal ...        prod      NaN   \n",
       "4  *New phase launching this weekend Sat &amp; Su...        prod      NaN   \n",
       "\n",
       "  features   latitude  longitude  no_of_units  price       property_category  \\\n",
       "0     None  53.418216  -6.149329         18.0    NaN  new_development_parent   \n",
       "1     None  53.364917  -6.454935          3.0    NaN  new_development_parent   \n",
       "2     None  53.273447  -6.313821          3.0    NaN  new_development_parent   \n",
       "3     None  53.608167  -6.210914         30.0    NaN  new_development_parent   \n",
       "4     None  53.262531  -6.181527          8.0    NaN  new_development_parent   \n",
       "\n",
       "  property_type  surface  \n",
       "0           NaN      NaN  \n",
       "1           NaN      NaN  \n",
       "2           NaN      NaN  \n",
       "3           NaN      NaN  \n",
       "4           NaN      NaN  "
      ]
     },
     "execution_count": 13,
     "metadata": {},
     "output_type": "execute_result"
    }
   ],
   "source": [
    "# show first data frame rows \n",
    "df_train_data.head()"
   ]
  },
  {
   "cell_type": "code",
   "execution_count": 14,
   "metadata": {
    "id": "5rq_p-D4yLBe"
   },
   "outputs": [
    {
     "data": {
      "text/html": [
       "<div>\n",
       "<style scoped>\n",
       "    .dataframe tbody tr th:only-of-type {\n",
       "        vertical-align: middle;\n",
       "    }\n",
       "\n",
       "    .dataframe tbody tr th {\n",
       "        vertical-align: top;\n",
       "    }\n",
       "\n",
       "    .dataframe thead th {\n",
       "        text-align: right;\n",
       "    }\n",
       "</style>\n",
       "<table border=\"1\" class=\"dataframe\">\n",
       "  <thead>\n",
       "    <tr style=\"text-align: right;\">\n",
       "      <th></th>\n",
       "      <th>ad_id</th>\n",
       "      <th>bathrooms</th>\n",
       "      <th>beds</th>\n",
       "      <th>latitude</th>\n",
       "      <th>longitude</th>\n",
       "      <th>no_of_units</th>\n",
       "      <th>price</th>\n",
       "      <th>surface</th>\n",
       "    </tr>\n",
       "  </thead>\n",
       "  <tbody>\n",
       "    <tr>\n",
       "      <th>count</th>\n",
       "      <td>2.982000e+03</td>\n",
       "      <td>2931.000000</td>\n",
       "      <td>2931.000000</td>\n",
       "      <td>2982.000000</td>\n",
       "      <td>2982.000000</td>\n",
       "      <td>59.000000</td>\n",
       "      <td>2.892000e+03</td>\n",
       "      <td>2431.000000</td>\n",
       "    </tr>\n",
       "    <tr>\n",
       "      <th>mean</th>\n",
       "      <td>1.224065e+07</td>\n",
       "      <td>1.998635</td>\n",
       "      <td>2.979188</td>\n",
       "      <td>53.355991</td>\n",
       "      <td>-6.257175</td>\n",
       "      <td>7.440678</td>\n",
       "      <td>5.323536e+05</td>\n",
       "      <td>318.851787</td>\n",
       "    </tr>\n",
       "    <tr>\n",
       "      <th>std</th>\n",
       "      <td>5.793037e+05</td>\n",
       "      <td>1.291875</td>\n",
       "      <td>1.468408</td>\n",
       "      <td>0.086748</td>\n",
       "      <td>0.141906</td>\n",
       "      <td>8.937081</td>\n",
       "      <td>5.678148e+05</td>\n",
       "      <td>4389.423136</td>\n",
       "    </tr>\n",
       "    <tr>\n",
       "      <th>min</th>\n",
       "      <td>9.968870e+05</td>\n",
       "      <td>0.000000</td>\n",
       "      <td>0.000000</td>\n",
       "      <td>51.458439</td>\n",
       "      <td>-6.521183</td>\n",
       "      <td>0.000000</td>\n",
       "      <td>1.999500e+04</td>\n",
       "      <td>3.400000</td>\n",
       "    </tr>\n",
       "    <tr>\n",
       "      <th>25%</th>\n",
       "      <td>1.226813e+07</td>\n",
       "      <td>1.000000</td>\n",
       "      <td>2.000000</td>\n",
       "      <td>53.298929</td>\n",
       "      <td>-6.314064</td>\n",
       "      <td>2.000000</td>\n",
       "      <td>2.800000e+05</td>\n",
       "      <td>74.100000</td>\n",
       "    </tr>\n",
       "    <tr>\n",
       "      <th>50%</th>\n",
       "      <td>1.237758e+07</td>\n",
       "      <td>2.000000</td>\n",
       "      <td>3.000000</td>\n",
       "      <td>53.345497</td>\n",
       "      <td>-6.252254</td>\n",
       "      <td>3.000000</td>\n",
       "      <td>3.800000e+05</td>\n",
       "      <td>100.000000</td>\n",
       "    </tr>\n",
       "    <tr>\n",
       "      <th>75%</th>\n",
       "      <td>1.240294e+07</td>\n",
       "      <td>3.000000</td>\n",
       "      <td>4.000000</td>\n",
       "      <td>53.388845</td>\n",
       "      <td>-6.196049</td>\n",
       "      <td>8.000000</td>\n",
       "      <td>5.750000e+05</td>\n",
       "      <td>142.000000</td>\n",
       "    </tr>\n",
       "    <tr>\n",
       "      <th>max</th>\n",
       "      <td>1.242836e+07</td>\n",
       "      <td>18.000000</td>\n",
       "      <td>27.000000</td>\n",
       "      <td>53.630588</td>\n",
       "      <td>-1.744995</td>\n",
       "      <td>36.000000</td>\n",
       "      <td>9.995000e+06</td>\n",
       "      <td>182108.539008</td>\n",
       "    </tr>\n",
       "  </tbody>\n",
       "</table>\n",
       "</div>"
      ],
      "text/plain": [
       "              ad_id    bathrooms         beds     latitude    longitude  \\\n",
       "count  2.982000e+03  2931.000000  2931.000000  2982.000000  2982.000000   \n",
       "mean   1.224065e+07     1.998635     2.979188    53.355991    -6.257175   \n",
       "std    5.793037e+05     1.291875     1.468408     0.086748     0.141906   \n",
       "min    9.968870e+05     0.000000     0.000000    51.458439    -6.521183   \n",
       "25%    1.226813e+07     1.000000     2.000000    53.298929    -6.314064   \n",
       "50%    1.237758e+07     2.000000     3.000000    53.345497    -6.252254   \n",
       "75%    1.240294e+07     3.000000     4.000000    53.388845    -6.196049   \n",
       "max    1.242836e+07    18.000000    27.000000    53.630588    -1.744995   \n",
       "\n",
       "       no_of_units         price        surface  \n",
       "count    59.000000  2.892000e+03    2431.000000  \n",
       "mean      7.440678  5.323536e+05     318.851787  \n",
       "std       8.937081  5.678148e+05    4389.423136  \n",
       "min       0.000000  1.999500e+04       3.400000  \n",
       "25%       2.000000  2.800000e+05      74.100000  \n",
       "50%       3.000000  3.800000e+05     100.000000  \n",
       "75%       8.000000  5.750000e+05     142.000000  \n",
       "max      36.000000  9.995000e+06  182108.539008  "
      ]
     },
     "execution_count": 14,
     "metadata": {},
     "output_type": "execute_result"
    }
   ],
   "source": [
    "# Generate descriptive statistics\n",
    "df_train_data.describe()"
   ]
  },
  {
   "cell_type": "markdown",
   "metadata": {
    "id": "Iqg9_uxFyZli"
   },
   "source": [
    "### Test dataset <a id='test_dataset'></a>"
   ]
  },
  {
   "cell_type": "code",
   "execution_count": 15,
   "metadata": {
    "id": "bw2_yypxMfsi"
   },
   "outputs": [
    {
     "data": {
      "text/html": [
       "<div>\n",
       "<style scoped>\n",
       "    .dataframe tbody tr th:only-of-type {\n",
       "        vertical-align: middle;\n",
       "    }\n",
       "\n",
       "    .dataframe tbody tr th {\n",
       "        vertical-align: top;\n",
       "    }\n",
       "\n",
       "    .dataframe thead th {\n",
       "        text-align: right;\n",
       "    }\n",
       "</style>\n",
       "<table border=\"1\" class=\"dataframe\">\n",
       "  <thead>\n",
       "    <tr style=\"text-align: right;\">\n",
       "      <th></th>\n",
       "      <th>ad_id</th>\n",
       "      <th>area</th>\n",
       "      <th>bathrooms</th>\n",
       "      <th>beds</th>\n",
       "      <th>ber_classification</th>\n",
       "      <th>county</th>\n",
       "      <th>description_block</th>\n",
       "      <th>environment</th>\n",
       "      <th>facility</th>\n",
       "      <th>features</th>\n",
       "      <th>latitude</th>\n",
       "      <th>longitude</th>\n",
       "      <th>no_of_units</th>\n",
       "      <th>property_category</th>\n",
       "      <th>property_type</th>\n",
       "      <th>surface</th>\n",
       "    </tr>\n",
       "  </thead>\n",
       "  <tbody>\n",
       "    <tr>\n",
       "      <th>0</th>\n",
       "      <td>12373510</td>\n",
       "      <td>Skerries</td>\n",
       "      <td>2.0</td>\n",
       "      <td>4.0</td>\n",
       "      <td>G</td>\n",
       "      <td>Dublin</td>\n",
       "      <td>It's all in the name \"Island View\";. Truly won...</td>\n",
       "      <td>prod</td>\n",
       "      <td>Parking,Alarm,Oil Fired Central Heating</td>\n",
       "      <td>Breath-taking panoramic views radiate from thi...</td>\n",
       "      <td>53.566881</td>\n",
       "      <td>-6.101148</td>\n",
       "      <td>NaN</td>\n",
       "      <td>sale</td>\n",
       "      <td>bungalow</td>\n",
       "      <td>142.0</td>\n",
       "    </tr>\n",
       "    <tr>\n",
       "      <th>1</th>\n",
       "      <td>12422623</td>\n",
       "      <td>Lucan</td>\n",
       "      <td>2.0</td>\n",
       "      <td>3.0</td>\n",
       "      <td>C1</td>\n",
       "      <td>Dublin</td>\n",
       "      <td>REA McDonald - Lucan' s longest established es...</td>\n",
       "      <td>prod</td>\n",
       "      <td>NaN</td>\n",
       "      <td>Gas fired central heating.\\nDouble glazed wind...</td>\n",
       "      <td>53.362992</td>\n",
       "      <td>-6.452909</td>\n",
       "      <td>NaN</td>\n",
       "      <td>sale</td>\n",
       "      <td>terraced</td>\n",
       "      <td>114.0</td>\n",
       "    </tr>\n",
       "    <tr>\n",
       "      <th>2</th>\n",
       "      <td>12377408</td>\n",
       "      <td>Swords</td>\n",
       "      <td>3.0</td>\n",
       "      <td>4.0</td>\n",
       "      <td>B3</td>\n",
       "      <td>Dublin</td>\n",
       "      <td>REA Grimes are proud to present to the market ...</td>\n",
       "      <td>prod</td>\n",
       "      <td>NaN</td>\n",
       "      <td>Pristine condition throughout\\nHighly sought-a...</td>\n",
       "      <td>53.454198</td>\n",
       "      <td>-6.262964</td>\n",
       "      <td>NaN</td>\n",
       "      <td>sale</td>\n",
       "      <td>semi-detached</td>\n",
       "      <td>172.0</td>\n",
       "    </tr>\n",
       "    <tr>\n",
       "      <th>3</th>\n",
       "      <td>12420093</td>\n",
       "      <td>Lucan</td>\n",
       "      <td>4.0</td>\n",
       "      <td>3.0</td>\n",
       "      <td>A3</td>\n",
       "      <td>Dublin</td>\n",
       "      <td>REA McDonald, Lucan' s longest established est...</td>\n",
       "      <td>prod</td>\n",
       "      <td>NaN</td>\n",
       "      <td>A-rated home within a short walk of Lucan Vill...</td>\n",
       "      <td>53.354402</td>\n",
       "      <td>-6.458647</td>\n",
       "      <td>NaN</td>\n",
       "      <td>sale</td>\n",
       "      <td>semi-detached</td>\n",
       "      <td>132.4</td>\n",
       "    </tr>\n",
       "    <tr>\n",
       "      <th>4</th>\n",
       "      <td>12417338</td>\n",
       "      <td>Clondalkin</td>\n",
       "      <td>1.0</td>\n",
       "      <td>3.0</td>\n",
       "      <td>E2</td>\n",
       "      <td>Dublin</td>\n",
       "      <td>Hibernian Auctioneers are delighted to bring, ...</td>\n",
       "      <td>prod</td>\n",
       "      <td>Parking,Gas Fired Central Heating,Wired for Ca...</td>\n",
       "      <td>Mature Location \\nGas Heating \\nClose to Ameni...</td>\n",
       "      <td>53.336530</td>\n",
       "      <td>-6.393587</td>\n",
       "      <td>NaN</td>\n",
       "      <td>sale</td>\n",
       "      <td>semi-detached</td>\n",
       "      <td>88.0</td>\n",
       "    </tr>\n",
       "  </tbody>\n",
       "</table>\n",
       "</div>"
      ],
      "text/plain": [
       "      ad_id        area  bathrooms  beds ber_classification  county  \\\n",
       "0  12373510    Skerries        2.0   4.0                  G  Dublin   \n",
       "1  12422623       Lucan        2.0   3.0                 C1  Dublin   \n",
       "2  12377408      Swords        3.0   4.0                 B3  Dublin   \n",
       "3  12420093       Lucan        4.0   3.0                 A3  Dublin   \n",
       "4  12417338  Clondalkin        1.0   3.0                 E2  Dublin   \n",
       "\n",
       "                                   description_block environment  \\\n",
       "0  It's all in the name \"Island View\";. Truly won...        prod   \n",
       "1  REA McDonald - Lucan' s longest established es...        prod   \n",
       "2  REA Grimes are proud to present to the market ...        prod   \n",
       "3  REA McDonald, Lucan' s longest established est...        prod   \n",
       "4  Hibernian Auctioneers are delighted to bring, ...        prod   \n",
       "\n",
       "                                            facility  \\\n",
       "0            Parking,Alarm,Oil Fired Central Heating   \n",
       "1                                                NaN   \n",
       "2                                                NaN   \n",
       "3                                                NaN   \n",
       "4  Parking,Gas Fired Central Heating,Wired for Ca...   \n",
       "\n",
       "                                            features   latitude  longitude  \\\n",
       "0  Breath-taking panoramic views radiate from thi...  53.566881  -6.101148   \n",
       "1  Gas fired central heating.\\nDouble glazed wind...  53.362992  -6.452909   \n",
       "2  Pristine condition throughout\\nHighly sought-a...  53.454198  -6.262964   \n",
       "3  A-rated home within a short walk of Lucan Vill...  53.354402  -6.458647   \n",
       "4  Mature Location \\nGas Heating \\nClose to Ameni...  53.336530  -6.393587   \n",
       "\n",
       "   no_of_units property_category  property_type  surface  \n",
       "0          NaN              sale       bungalow    142.0  \n",
       "1          NaN              sale       terraced    114.0  \n",
       "2          NaN              sale  semi-detached    172.0  \n",
       "3          NaN              sale  semi-detached    132.4  \n",
       "4          NaN              sale  semi-detached     88.0  "
      ]
     },
     "execution_count": 15,
     "metadata": {},
     "output_type": "execute_result"
    }
   ],
   "source": [
    "# show first data frame rows \n",
    "df_test_data.head()"
   ]
  },
  {
   "cell_type": "code",
   "execution_count": 16,
   "metadata": {
    "id": "FXo0x2u7T7-1"
   },
   "outputs": [
    {
     "data": {
      "text/html": [
       "<div>\n",
       "<style scoped>\n",
       "    .dataframe tbody tr th:only-of-type {\n",
       "        vertical-align: middle;\n",
       "    }\n",
       "\n",
       "    .dataframe tbody tr th {\n",
       "        vertical-align: top;\n",
       "    }\n",
       "\n",
       "    .dataframe thead th {\n",
       "        text-align: right;\n",
       "    }\n",
       "</style>\n",
       "<table border=\"1\" class=\"dataframe\">\n",
       "  <thead>\n",
       "    <tr style=\"text-align: right;\">\n",
       "      <th></th>\n",
       "      <th>ad_id</th>\n",
       "      <th>bathrooms</th>\n",
       "      <th>beds</th>\n",
       "      <th>latitude</th>\n",
       "      <th>longitude</th>\n",
       "      <th>no_of_units</th>\n",
       "      <th>surface</th>\n",
       "    </tr>\n",
       "  </thead>\n",
       "  <tbody>\n",
       "    <tr>\n",
       "      <th>count</th>\n",
       "      <td>5.000000e+02</td>\n",
       "      <td>500.000000</td>\n",
       "      <td>500.000000</td>\n",
       "      <td>500.000000</td>\n",
       "      <td>500.000000</td>\n",
       "      <td>0.0</td>\n",
       "      <td>500.000000</td>\n",
       "    </tr>\n",
       "    <tr>\n",
       "      <th>mean</th>\n",
       "      <td>1.231695e+07</td>\n",
       "      <td>1.994000</td>\n",
       "      <td>2.930000</td>\n",
       "      <td>53.356034</td>\n",
       "      <td>-6.247842</td>\n",
       "      <td>NaN</td>\n",
       "      <td>156.007671</td>\n",
       "    </tr>\n",
       "    <tr>\n",
       "      <th>std</th>\n",
       "      <td>1.485832e+05</td>\n",
       "      <td>1.106532</td>\n",
       "      <td>1.191612</td>\n",
       "      <td>0.081905</td>\n",
       "      <td>0.088552</td>\n",
       "      <td>NaN</td>\n",
       "      <td>344.497362</td>\n",
       "    </tr>\n",
       "    <tr>\n",
       "      <th>min</th>\n",
       "      <td>1.130615e+07</td>\n",
       "      <td>0.000000</td>\n",
       "      <td>0.000000</td>\n",
       "      <td>53.221348</td>\n",
       "      <td>-6.496987</td>\n",
       "      <td>NaN</td>\n",
       "      <td>33.500000</td>\n",
       "    </tr>\n",
       "    <tr>\n",
       "      <th>25%</th>\n",
       "      <td>1.228617e+07</td>\n",
       "      <td>1.000000</td>\n",
       "      <td>2.000000</td>\n",
       "      <td>53.297373</td>\n",
       "      <td>-6.296404</td>\n",
       "      <td>NaN</td>\n",
       "      <td>72.375000</td>\n",
       "    </tr>\n",
       "    <tr>\n",
       "      <th>50%</th>\n",
       "      <td>1.237964e+07</td>\n",
       "      <td>2.000000</td>\n",
       "      <td>3.000000</td>\n",
       "      <td>53.339547</td>\n",
       "      <td>-6.243572</td>\n",
       "      <td>NaN</td>\n",
       "      <td>98.000000</td>\n",
       "    </tr>\n",
       "    <tr>\n",
       "      <th>75%</th>\n",
       "      <td>1.240544e+07</td>\n",
       "      <td>3.000000</td>\n",
       "      <td>4.000000</td>\n",
       "      <td>53.381650</td>\n",
       "      <td>-6.185055</td>\n",
       "      <td>NaN</td>\n",
       "      <td>138.935000</td>\n",
       "    </tr>\n",
       "    <tr>\n",
       "      <th>max</th>\n",
       "      <td>1.242809e+07</td>\n",
       "      <td>8.000000</td>\n",
       "      <td>7.000000</td>\n",
       "      <td>53.619775</td>\n",
       "      <td>-6.064874</td>\n",
       "      <td>NaN</td>\n",
       "      <td>5746.536120</td>\n",
       "    </tr>\n",
       "  </tbody>\n",
       "</table>\n",
       "</div>"
      ],
      "text/plain": [
       "              ad_id   bathrooms        beds    latitude   longitude  \\\n",
       "count  5.000000e+02  500.000000  500.000000  500.000000  500.000000   \n",
       "mean   1.231695e+07    1.994000    2.930000   53.356034   -6.247842   \n",
       "std    1.485832e+05    1.106532    1.191612    0.081905    0.088552   \n",
       "min    1.130615e+07    0.000000    0.000000   53.221348   -6.496987   \n",
       "25%    1.228617e+07    1.000000    2.000000   53.297373   -6.296404   \n",
       "50%    1.237964e+07    2.000000    3.000000   53.339547   -6.243572   \n",
       "75%    1.240544e+07    3.000000    4.000000   53.381650   -6.185055   \n",
       "max    1.242809e+07    8.000000    7.000000   53.619775   -6.064874   \n",
       "\n",
       "       no_of_units      surface  \n",
       "count          0.0   500.000000  \n",
       "mean           NaN   156.007671  \n",
       "std            NaN   344.497362  \n",
       "min            NaN    33.500000  \n",
       "25%            NaN    72.375000  \n",
       "50%            NaN    98.000000  \n",
       "75%            NaN   138.935000  \n",
       "max            NaN  5746.536120  "
      ]
     },
     "execution_count": 16,
     "metadata": {},
     "output_type": "execute_result"
    }
   ],
   "source": [
    "# Generate descriptive statistics\n",
    "df_test_data.describe()"
   ]
  },
  {
   "cell_type": "markdown",
   "metadata": {
    "id": "UjMH1CSEUA1A"
   },
   "source": [
    "### Expected Cost dataset"
   ]
  },
  {
   "cell_type": "code",
   "execution_count": 17,
   "metadata": {},
   "outputs": [
    {
     "data": {
      "text/html": [
       "<div>\n",
       "<style scoped>\n",
       "    .dataframe tbody tr th:only-of-type {\n",
       "        vertical-align: middle;\n",
       "    }\n",
       "\n",
       "    .dataframe tbody tr th {\n",
       "        vertical-align: top;\n",
       "    }\n",
       "\n",
       "    .dataframe thead th {\n",
       "        text-align: right;\n",
       "    }\n",
       "</style>\n",
       "<table border=\"1\" class=\"dataframe\">\n",
       "  <thead>\n",
       "    <tr style=\"text-align: right;\">\n",
       "      <th></th>\n",
       "      <th>Id</th>\n",
       "      <th>Expected</th>\n",
       "    </tr>\n",
       "  </thead>\n",
       "  <tbody>\n",
       "    <tr>\n",
       "      <th>0</th>\n",
       "      <td>12373510</td>\n",
       "      <td>875000.0</td>\n",
       "    </tr>\n",
       "    <tr>\n",
       "      <th>1</th>\n",
       "      <td>12422623</td>\n",
       "      <td>355000.0</td>\n",
       "    </tr>\n",
       "    <tr>\n",
       "      <th>2</th>\n",
       "      <td>12377408</td>\n",
       "      <td>440000.0</td>\n",
       "    </tr>\n",
       "    <tr>\n",
       "      <th>3</th>\n",
       "      <td>12420093</td>\n",
       "      <td>425000.0</td>\n",
       "    </tr>\n",
       "    <tr>\n",
       "      <th>4</th>\n",
       "      <td>12417338</td>\n",
       "      <td>265000.0</td>\n",
       "    </tr>\n",
       "  </tbody>\n",
       "</table>\n",
       "</div>"
      ],
      "text/plain": [
       "         Id  Expected\n",
       "0  12373510  875000.0\n",
       "1  12422623  355000.0\n",
       "2  12377408  440000.0\n",
       "3  12420093  425000.0\n",
       "4  12417338  265000.0"
      ]
     },
     "execution_count": 17,
     "metadata": {},
     "output_type": "execute_result"
    }
   ],
   "source": [
    "df_true_cost.head()"
   ]
  },
  {
   "cell_type": "code",
   "execution_count": 18,
   "metadata": {
    "id": "7p63sCZeUNx3"
   },
   "outputs": [
    {
     "data": {
      "text/html": [
       "<div>\n",
       "<style scoped>\n",
       "    .dataframe tbody tr th:only-of-type {\n",
       "        vertical-align: middle;\n",
       "    }\n",
       "\n",
       "    .dataframe tbody tr th {\n",
       "        vertical-align: top;\n",
       "    }\n",
       "\n",
       "    .dataframe thead th {\n",
       "        text-align: right;\n",
       "    }\n",
       "</style>\n",
       "<table border=\"1\" class=\"dataframe\">\n",
       "  <thead>\n",
       "    <tr style=\"text-align: right;\">\n",
       "      <th></th>\n",
       "      <th>Id</th>\n",
       "      <th>Expected</th>\n",
       "    </tr>\n",
       "  </thead>\n",
       "  <tbody>\n",
       "    <tr>\n",
       "      <th>count</th>\n",
       "      <td>5.000000e+02</td>\n",
       "      <td>5.000000e+02</td>\n",
       "    </tr>\n",
       "    <tr>\n",
       "      <th>mean</th>\n",
       "      <td>1.231695e+07</td>\n",
       "      <td>5.810356e+05</td>\n",
       "    </tr>\n",
       "    <tr>\n",
       "      <th>std</th>\n",
       "      <td>1.485832e+05</td>\n",
       "      <td>6.009194e+05</td>\n",
       "    </tr>\n",
       "    <tr>\n",
       "      <th>min</th>\n",
       "      <td>1.130615e+07</td>\n",
       "      <td>8.500000e+04</td>\n",
       "    </tr>\n",
       "    <tr>\n",
       "      <th>25%</th>\n",
       "      <td>1.228617e+07</td>\n",
       "      <td>2.950000e+05</td>\n",
       "    </tr>\n",
       "    <tr>\n",
       "      <th>50%</th>\n",
       "      <td>1.237964e+07</td>\n",
       "      <td>4.250000e+05</td>\n",
       "    </tr>\n",
       "    <tr>\n",
       "      <th>75%</th>\n",
       "      <td>1.240544e+07</td>\n",
       "      <td>5.950000e+05</td>\n",
       "    </tr>\n",
       "    <tr>\n",
       "      <th>max</th>\n",
       "      <td>1.242809e+07</td>\n",
       "      <td>5.750000e+06</td>\n",
       "    </tr>\n",
       "  </tbody>\n",
       "</table>\n",
       "</div>"
      ],
      "text/plain": [
       "                 Id      Expected\n",
       "count  5.000000e+02  5.000000e+02\n",
       "mean   1.231695e+07  5.810356e+05\n",
       "std    1.485832e+05  6.009194e+05\n",
       "min    1.130615e+07  8.500000e+04\n",
       "25%    1.228617e+07  2.950000e+05\n",
       "50%    1.237964e+07  4.250000e+05\n",
       "75%    1.240544e+07  5.950000e+05\n",
       "max    1.242809e+07  5.750000e+06"
      ]
     },
     "execution_count": 18,
     "metadata": {},
     "output_type": "execute_result"
    }
   ],
   "source": [
    "# Generate descriptive statistics\n",
    "df_true_cost.describe()"
   ]
  },
  {
   "cell_type": "markdown",
   "metadata": {
    "id": "bJFJQxAS9HZK"
   },
   "source": [
    "# Piecewise Regression <a id='piecewise_regression'></a>\n",
    "The first part of this task is to apply a full model and then use subsets of the data to create clusters and apply a model to each of those."
   ]
  },
  {
   "cell_type": "markdown",
   "metadata": {
    "id": "uQ_1QsLToIDi"
   },
   "source": [
    "## Apply a full model"
   ]
  },
  {
   "cell_type": "code",
   "execution_count": 19,
   "metadata": {
    "id": "Yv5j1KzzMUnm"
   },
   "outputs": [
    {
     "name": "stdout",
     "output_type": "stream",
     "text": [
      "      latitude  longitude  beds\n",
      "0    53.566881  -6.101148   4.0\n",
      "1    53.362992  -6.452909   3.0\n",
      "2    53.454198  -6.262964   4.0\n",
      "3    53.354402  -6.458647   3.0\n",
      "4    53.336530  -6.393587   3.0\n",
      "..         ...        ...   ...\n",
      "495  53.342207  -6.226101   2.0\n",
      "496  53.261475  -6.147720   5.0\n",
      "497  53.391619  -6.205157   3.0\n",
      "498  53.360578  -6.183701   4.0\n",
      "499  53.366827  -6.248329   2.0\n",
      "\n",
      "[500 rows x 3 columns]\n"
     ]
    }
   ],
   "source": [
    "# select some features columns just for the baseline model\n",
    "# assume not all of the features are informative or useful\n",
    "# in this exercise you could try all of them if possible\n",
    "\n",
    "# will use these when I have a categorical conversion decided on\n",
    "# featrain = ['area','county','property_category','property_type']\n",
    "\n",
    "# Using existing digit values for ease of 1st run.\n",
    "#featrain = ['latitude','longitude','beds','no_of_units']\n",
    "featrain = ['latitude','longitude','beds', 'bathrooms']\n",
    "\n",
    "# dropna: remove missing values\n",
    "df_subset_train = df_train_data[featrain].dropna(axis=0)\n",
    "#print(df_subset_train)\n",
    "\n",
    "# Also remove columns with 0 - causes problems for the scalers used below\n",
    "df_subset_train = df_subset_train[(df_subset_train.beds>0)]\n",
    "df_subset_train = df_subset_train[(df_subset_train.bathrooms>0)]\n",
    "#print(df)\n",
    "\n",
    "# This will remove all columns that have ANY values less than 0.1\n",
    "#df_subset_train = df_subset_train[(df_subset_train > 0.1).all(axis=1)]\n",
    "#print(df_subset_train)\n",
    "\n",
    "#featest = ['area','county','property_category','property_type']\n",
    "featest = ['latitude','longitude','beds']\n",
    "\n",
    "df_subset_test = df_test_data[featest].dropna(axis=0)\n",
    "print(df_subset_test)\n",
    "\n",
    "# cost\n",
    "df_cost = df_true_cost[df_true_cost.index.isin(df_subset_test.index)]"
   ]
  },
  {
   "cell_type": "code",
   "execution_count": 20,
   "metadata": {},
   "outputs": [
    {
     "name": "stdout",
     "output_type": "stream",
     "text": [
      "Number of nan in df_subset_train dataset:  0\n",
      "Number of nan in df_subset_test dataset:  0\n"
     ]
    }
   ],
   "source": [
    "print('Number of nan in df_subset_train dataset: ',df_subset_train.isnull().sum().sum())\n",
    "print('Number of nan in df_subset_test dataset: ',df_subset_test.isnull().sum().sum())"
   ]
  },
  {
   "cell_type": "code",
   "execution_count": 21,
   "metadata": {},
   "outputs": [
    {
     "name": "stdout",
     "output_type": "stream",
     "text": [
      "[[3.]\n",
      " [4.]\n",
      " [3.]\n",
      " ...\n",
      " [1.]\n",
      " [2.]\n",
      " [2.]]\n",
      "<class 'pandas.core.frame.DataFrame'>\n",
      "       latitude  longitude  beds  bathrooms\n",
      "15    53.400454  -6.445730   5.0        3.0\n",
      "26    53.316410  -6.385214   4.0        4.0\n",
      "27    53.401414  -6.446634   5.0        3.0\n",
      "35    53.375377  -6.056749   5.0        5.0\n",
      "38    53.372130  -6.338466   2.0        2.0\n",
      "...         ...        ...   ...        ...\n",
      "2977  53.338738  -6.237199   2.0        2.0\n",
      "2978  53.335793  -6.294268   3.0        1.0\n",
      "2979  53.346098  -6.276856   2.0        1.0\n",
      "2980  53.273518  -6.178500   3.0        2.0\n",
      "2981  53.310073  -6.325158   3.0        2.0\n",
      "\n",
      "[2859 rows x 4 columns]\n",
      "<class 'numpy.ndarray'>\n"
     ]
    }
   ],
   "source": [
    "# train set, input columns\n",
    "Xs_train = df_subset_train.iloc[:,0:-1].values\n",
    "\n",
    "# train set, output column, property_type\n",
    "ys_train = df_subset_train.iloc[:,-1].values.reshape(-1,1)\n",
    "print(ys_train)\n",
    "print(type(df_subset_train))\n",
    "print(df_subset_train)\n",
    "\n",
    "# test set, input columns\n",
    "Xs_test = df_subset_test.iloc[:,0:].values\n",
    "\n",
    "# test set, output column, cost\n",
    "y_test = df_cost.Expected.values\n",
    "print(type(y_test))"
   ]
  },
  {
   "cell_type": "code",
   "execution_count": 22,
   "metadata": {},
   "outputs": [
    {
     "name": "stdout",
     "output_type": "stream",
     "text": [
      "[[53.40045411 -6.44573026  5.        ]\n",
      " [53.31641013 -6.38521365  4.        ]\n",
      " [53.40141406 -6.44663439  5.        ]\n",
      " ...\n",
      " [53.346098   -6.276856    2.        ]\n",
      " [53.273518   -6.1785      3.        ]\n",
      " [53.310073   -6.325158    3.        ]]\n"
     ]
    }
   ],
   "source": [
    "print(Xs_train)"
   ]
  },
  {
   "cell_type": "code",
   "execution_count": 23,
   "metadata": {},
   "outputs": [],
   "source": [
    "# StandardScaler() will normalize the features i.e. each column of X, \n",
    "# so, each column/feature/variable will have μ = 0 and σ = 1\n",
    "sc = StandardScaler()\n",
    "\n",
    "# hstack will concatenation along the second axis\n",
    "Xss_train = np.hstack([Xs_train, Xs_train[:,[2]]**2])\n",
    "xscaler = sc.fit(Xss_train)\n",
    "Xn_train = xscaler.transform(Xss_train)"
   ]
  },
  {
   "cell_type": "code",
   "execution_count": 24,
   "metadata": {},
   "outputs": [
    {
     "name": "stdout",
     "output_type": "stream",
     "text": [
      "[[53.566881 -6.101148  4.      ]\n",
      " [53.362992 -6.452909  3.      ]\n",
      " [53.454198 -6.262964  4.      ]\n",
      " ...\n",
      " [53.391619 -6.205157  3.      ]\n",
      " [53.360578 -6.183701  4.      ]\n",
      " [53.366827 -6.248329  2.      ]]\n"
     ]
    }
   ],
   "source": [
    "print(Xs_test)\n",
    "Xss_test = np.hstack([Xs_test, Xs_test[:,[2]]**2])\n",
    "Xn_test = xscaler.transform(Xss_test)"
   ]
  },
  {
   "cell_type": "code",
   "execution_count": 25,
   "metadata": {},
   "outputs": [
    {
     "name": "stdout",
     "output_type": "stream",
     "text": [
      "[[3.]\n",
      " [4.]\n",
      " [3.]\n",
      " ...\n",
      " [1.]\n",
      " [2.]\n",
      " [2.]]\n",
      "[[1.09861229]\n",
      " [1.38629436]\n",
      " [1.09861229]\n",
      " ...\n",
      " [0.        ]\n",
      " [0.69314718]\n",
      " [0.69314718]]\n"
     ]
    }
   ],
   "source": [
    "print(ys_train)\n",
    "ylog = np.log(ys_train.astype('float'))\n",
    "print(ylog)\n",
    "yscaler = sc.fit(ylog)\n",
    "yn_train = yscaler.transform(ylog)"
   ]
  },
  {
   "cell_type": "code",
   "execution_count": 26,
   "metadata": {},
   "outputs": [
    {
     "name": "stdout",
     "output_type": "stream",
     "text": [
      "Start time 22:53:52.356187\n"
     ]
    },
    {
     "data": {
      "text/html": [
       "\n",
       "    <div>\n",
       "        <style>\n",
       "            /* Turns off some styling */\n",
       "            progress {\n",
       "                /* gets rid of default border in Firefox and Opera. */\n",
       "                border: none;\n",
       "                /* Needs to be in here for Safari polyfill so background images work as expected. */\n",
       "                background-size: auto;\n",
       "            }\n",
       "            .progress-bar-interrupted, .progress-bar-interrupted::-webkit-progress-bar {\n",
       "                background: #F44336;\n",
       "            }\n",
       "        </style>\n",
       "      <progress value='50000' class='' max='50000' style='width:300px; height:20px; vertical-align: middle;'></progress>\n",
       "      100.00% [50000/50000 00:10<00:00 Average Loss = 3,379.7]\n",
       "    </div>\n",
       "    "
      ],
      "text/plain": [
       "<IPython.core.display.HTML object>"
      ]
     },
     "metadata": {},
     "output_type": "display_data"
    },
    {
     "name": "stderr",
     "output_type": "stream",
     "text": [
      "Finished [100%]: Average Loss = 3,379.7\n"
     ]
    },
    {
     "name": "stdout",
     "output_type": "stream",
     "text": [
      "Finish time 22:54:12.845410\n"
     ]
    },
    {
     "data": {
      "image/png": "[encoded data removed]",
      "text/plain": [
       "<Figure size 720x576 with 1 Axes>"
      ]
     },
     "metadata": {
      "needs_background": "light"
     },
     "output_type": "display_data"
    }
   ],
   "source": [
    "print(\"Start time {}\".format(datetime.datetime.now().time()))\n",
    "\n",
    "full_posterior, full_approximation = run_model(Xn_train, yn_train, num_iter, sample_size)\n",
    "\n",
    "print(\"Finish time {}\".format(datetime.datetime.now().time()))\n",
    "\n",
    "plt.figure(figsize=(10, 8))\n",
    "plt.plot(full_approximation.hist);"
   ]
  },
  {
   "cell_type": "code",
   "execution_count": 27,
   "metadata": {
    "id": "cIskuS3ToIDk"
   },
   "outputs": [
    {
     "name": "stdout",
     "output_type": "stream",
     "text": [
      "MAE =  581033.7637634798\n",
      "MAPE =  0.9999958190944384\n"
     ]
    }
   ],
   "source": [
    "# prediction\n",
    "ll=np.mean(full_posterior['alpha']) + np.dot(np.mean(full_posterior['beta'],axis=0), Xn_test.T)\n",
    "y_pred_BLR = np.exp(yscaler.inverse_transform(ll.reshape(-1,1)))[:,0]\n",
    "\n",
    "print(\"MAE = \",(np.mean(abs(y_pred_BLR - y_test))))\n",
    "print(\"MAPE = \",(np.mean(abs(y_pred_BLR - y_test) / y_test)))"
   ]
  },
  {
   "cell_type": "markdown",
   "metadata": {
    "id": "q_jBBKvtoIDk"
   },
   "source": [
    "## Clustering <a id='clustering'></a>"
   ]
  },
  {
   "cell_type": "markdown",
   "metadata": {
    "id": "VYFvbgYDaEOS"
   },
   "source": [
    "### Full Model"
   ]
  },
  {
   "cell_type": "code",
   "execution_count": 28,
   "metadata": {
    "id": "iphQ53UE0iVw"
   },
   "outputs": [
    {
     "data": {
      "text/plain": [
       "<matplotlib.collections.PathCollection at 0x7fa0e4c2c370>"
      ]
     },
     "execution_count": 28,
     "metadata": {},
     "output_type": "execute_result"
    },
    {
     "data": {
      "image/png": "[encoded data removed]",
      "text/plain": [
       "<Figure size 720x576 with 1 Axes>"
      ]
     },
     "metadata": {
      "needs_background": "light"
     },
     "output_type": "display_data"
    }
   ],
   "source": [
    "# training gaussian mixture model \n",
    "gmm = GaussianMixture(n_components=4)\n",
    "\n",
    "# clustering by features 1, 2\n",
    "ind=[0,1]\n",
    "X_ind = np.vstack([Xn_train[:,ind],Xn_test[:,ind]])\n",
    "\n",
    "# Gaussian Mixture\n",
    "gmm.fit(X_ind)\n",
    "\n",
    "# plot blue dots\n",
    "plt.figure(figsize=(10, 8))\n",
    "plt.scatter(X_ind[:,0],X_ind[:,1])\n",
    "\n",
    "# centroids:  orange dots\n",
    "plt.scatter(gmm.means_[:,0],gmm.means_[:,1])"
   ]
  },
  {
   "cell_type": "markdown",
   "metadata": {
    "id": "h51OhBV5Z4tY"
   },
   "source": [
    "## Clusters\n",
    "TBD... put these in for loop - `num_models`\n",
    "\n",
    "#### Cluster 0 - longitude and latitude ?  <a id='cluster_0'></a>"
   ]
  },
  {
   "cell_type": "markdown",
   "metadata": {},
   "source": [
    "#### Training clusters"
   ]
  },
  {
   "cell_type": "code",
   "execution_count": 29,
   "metadata": {},
   "outputs": [
    {
     "data": {
      "text/plain": [
       "{0: 1931, 1: 736, 2: 190, 3: 2}"
      ]
     },
     "execution_count": 29,
     "metadata": {},
     "output_type": "execute_result"
    }
   ],
   "source": [
    "# train clusters\n",
    "clusters_train = gmm.predict(Xn_train[:,ind])\n",
    "unique_train, counts_train = np.unique(clusters_train, return_counts=True)\n",
    "dict(zip(unique_train, counts_train))"
   ]
  },
  {
   "cell_type": "markdown",
   "metadata": {},
   "source": [
    "#### Testing clusters"
   ]
  },
  {
   "cell_type": "code",
   "execution_count": 30,
   "metadata": {},
   "outputs": [
    {
     "data": {
      "text/plain": [
       "{0: 302, 1: 155, 2: 43}"
      ]
     },
     "execution_count": 30,
     "metadata": {},
     "output_type": "execute_result"
    }
   ],
   "source": [
    "# test clusters\n",
    "clusters_test = gmm.predict(Xn_test[:,ind])\n",
    "unique_test, counts_test = np.unique(clusters_test, return_counts=True)\n",
    "dict(zip(unique_test, counts_test))"
   ]
  },
  {
   "cell_type": "markdown",
   "metadata": {},
   "source": [
    "#### Try 1 out before doing anything else"
   ]
  },
  {
   "cell_type": "code",
   "execution_count": 32,
   "metadata": {},
   "outputs": [],
   "source": [
    "# Same as above\n",
    "ylog, yscaler, xn, yn = train_cluster(Xn_train, Xn_test)"
   ]
  },
  {
   "cell_type": "code",
   "execution_count": 33,
   "metadata": {},
   "outputs": [
    {
     "name": "stdout",
     "output_type": "stream",
     "text": [
      "Start time 22:54:21.844626\n"
     ]
    },
    {
     "data": {
      "text/html": [
       "\n",
       "    <div>\n",
       "        <style>\n",
       "            /* Turns off some styling */\n",
       "            progress {\n",
       "                /* gets rid of default border in Firefox and Opera. */\n",
       "                border: none;\n",
       "                /* Needs to be in here for Safari polyfill so background images work as expected. */\n",
       "                background-size: auto;\n",
       "            }\n",
       "            .progress-bar-interrupted, .progress-bar-interrupted::-webkit-progress-bar {\n",
       "                background: #F44336;\n",
       "            }\n",
       "        </style>\n",
       "      <progress value='50000' class='' max='50000' style='width:300px; height:20px; vertical-align: middle;'></progress>\n",
       "      100.00% [50000/50000 00:07<00:00 Average Loss = 2,290.6]\n",
       "    </div>\n",
       "    "
      ],
      "text/plain": [
       "<IPython.core.display.HTML object>"
      ]
     },
     "metadata": {},
     "output_type": "display_data"
    },
    {
     "name": "stderr",
     "output_type": "stream",
     "text": [
      "Finished [100%]: Average Loss = 2,290.6\n"
     ]
    },
    {
     "name": "stdout",
     "output_type": "stream",
     "text": [
      "Finish time 22:54:31.072507\n"
     ]
    }
   ],
   "source": [
    "print(\"Start time {}\".format(datetime.datetime.now().time()))\n",
    "\n",
    "tmp_posterior, tmp_approximation = run_model(xn, yn, num_iter, sample_size)\n",
    "\n",
    "print(\"Finish time {}\".format(datetime.datetime.now().time()))"
   ]
  },
  {
   "cell_type": "code",
   "execution_count": 35,
   "metadata": {},
   "outputs": [
    {
     "data": {
      "image/png": "[encoded data removed]",
      "text/plain": [
       "<Figure size 432x288 with 1 Axes>"
      ]
     },
     "metadata": {
      "needs_background": "light"
     },
     "output_type": "display_data"
    }
   ],
   "source": [
    "# Simulation\n",
    "cluster_sim(tmp_posterior, xn, num_samples=200)"
   ]
  },
  {
   "cell_type": "markdown",
   "metadata": {},
   "source": [
    "#### Cluster 1 - Number of bedrooms &  ?  <a id='cluster_1'></a>"
   ]
  },
  {
   "cell_type": "code",
   "execution_count": null,
   "metadata": {},
   "outputs": [],
   "source": []
  },
  {
   "cell_type": "markdown",
   "metadata": {},
   "source": [
    "#### Cluster 2 - Category & Type ? (property_category, property_type) ?  <a id='cluster_2'></a>"
   ]
  },
  {
   "cell_type": "code",
   "execution_count": null,
   "metadata": {},
   "outputs": [],
   "source": []
  },
  {
   "cell_type": "markdown",
   "metadata": {},
   "source": [
    "#### Cluster 3 - County & Type ?  <a id='cluster_3'></a>"
   ]
  },
  {
   "cell_type": "code",
   "execution_count": null,
   "metadata": {},
   "outputs": [],
   "source": []
  },
  {
   "cell_type": "markdown",
   "metadata": {},
   "source": [
    "### Test clusters"
   ]
  },
  {
   "cell_type": "code",
   "execution_count": null,
   "metadata": {
    "id": "vNvx_KxrLt90"
   },
   "outputs": [],
   "source": [
    "# train clusters\n",
    "\n"
   ]
  },
  {
   "cell_type": "code",
   "execution_count": null,
   "metadata": {
    "id": "-wTT4220zFNx"
   },
   "outputs": [],
   "source": [
    "# test clusters\n"
   ]
  },
  {
   "cell_type": "markdown",
   "metadata": {
    "id": "dXF25ZDYoIDl"
   },
   "source": [
    "## Piecewise Model <a id='piecewise_model'></a>\n",
    "TBD - put into for loop - `num_models`"
   ]
  },
  {
   "cell_type": "code",
   "execution_count": null,
   "metadata": {
    "id": "N1e-4ruvaJci"
   },
   "outputs": [],
   "source": [
    "\n",
    "# Execute the model for cluster 0\n",
    "model0_posterior, approximation_0 = run_model(num_iter, sample_size)\n",
    "\n",
    "plt.figure(figsize=(10, 8))\n",
    "plt.plot(approximation_0.hist);"
   ]
  },
  {
   "cell_type": "code",
   "execution_count": null,
   "metadata": {},
   "outputs": [],
   "source": [
    "# Execute the model for cluster 1\n",
    "model1_posterior, approximation_1 = run_model(num_iter, sample_size)\n",
    "\n",
    "plt.figure(figsize=(10, 8))\n",
    "plt.plot(approximation_1.hist);"
   ]
  },
  {
   "cell_type": "code",
   "execution_count": null,
   "metadata": {},
   "outputs": [],
   "source": [
    "# Execute the model for cluster 2\n",
    "model2_posterior, approximation_2 = run_model(num_iter, sample_size)\n",
    "\n",
    "plt.figure(figsize=(10, 8))\n",
    "plt.plot(approximation_2.hist)"
   ]
  },
  {
   "cell_type": "code",
   "execution_count": null,
   "metadata": {},
   "outputs": [],
   "source": [
    "# Execute the model for cluster 3\n",
    "model3_posterior, approximation_3 = run_model(num_iter, sample_size)\n",
    "\n",
    "plt.figure(figsize=(10, 8))\n",
    "plt.plot(approximation_3.hist)"
   ]
  },
  {
   "cell_type": "markdown",
   "metadata": {
    "id": "wHBgUe1pcZQQ"
   },
   "source": [
    "## Simulations <a id='simulations'></a>"
   ]
  },
  {
   "cell_type": "markdown",
   "metadata": {
    "id": "bfSEdYAUoIDn"
   },
   "source": [
    "#### Cluster 0 - longitude and latitude ?  <a id='cluster_0'></a>"
   ]
  },
  {
   "cell_type": "code",
   "execution_count": null,
   "metadata": {},
   "outputs": [],
   "source": [
    "# Simulate cluster 0\n",
    "cluster_sim(model0_posterior)"
   ]
  },
  {
   "cell_type": "markdown",
   "metadata": {},
   "source": [
    "#### Cluster 1 - Number of bedrooms &  ?  <a id='cluster_1'></a>"
   ]
  },
  {
   "cell_type": "code",
   "execution_count": null,
   "metadata": {},
   "outputs": [],
   "source": [
    "# Simulate cluster 1\n",
    "cluster_sim(model1_posterior)"
   ]
  },
  {
   "cell_type": "markdown",
   "metadata": {},
   "source": [
    "#### Cluster 2 - Category & Type ? (property_category, property_type) ?  <a id='cluster_2'></a>"
   ]
  },
  {
   "cell_type": "code",
   "execution_count": null,
   "metadata": {},
   "outputs": [],
   "source": [
    "# Simulate cluster 2\n",
    "cluster_sim(model2_posterior)"
   ]
  },
  {
   "cell_type": "markdown",
   "metadata": {},
   "source": [
    "#### Cluster 3 - County & Type ?  <a id='cluster_3'></a>"
   ]
  },
  {
   "cell_type": "code",
   "execution_count": null,
   "metadata": {},
   "outputs": [],
   "source": [
    "# Simulate cluster 3\n",
    "cluster_sim(model3_posterior)"
   ]
  },
  {
   "cell_type": "markdown",
   "metadata": {
    "id": "qgMUwBO7oIDq"
   },
   "source": [
    "## Overall"
   ]
  },
  {
   "cell_type": "markdown",
   "metadata": {
    "id": "QMY9rDvVoIDq"
   },
   "source": [
    "## Test set performance <a id='test_set_perf'></a>"
   ]
  },
  {
   "cell_type": "markdown",
   "metadata": {
    "id": "YGmB9BNkoIDr"
   },
   "source": [
    "### PPC on the Test set\n",
    "\n"
   ]
  },
  {
   "cell_type": "markdown",
   "metadata": {
    "id": "f0GYCpwEM09T"
   },
   "source": [
    "# Summary\n",
    "### Basic understanding\n",
    "\n",
    "section [piecewise_model](#piecewise_model)\n",
    "[](#)\n",
    "[](#)\n",
    "\n",
    "[piecewise_regression](#piecewise_regression)\n",
    "[clustering](#clustering)\n",
    "[simulations](#simulations)\n",
    "[test_set_perf](#test_set_perf)\n",
    "\n",
    "### References\n",
    "#### Websites\n",
    "#### https://twiecki.io/blog/2016/06/01/bayesian-deep-learning/\n",
    "#### https://twiecki.io/blog/2014/03/17/bayesian-glms-3/\n",
    "#### https://www.cs.cornell.edu/courses/cs4110/2016fa/lectures/lecture33.html\n",
    "#### http://www.henry.k12.ga.us/ugh/apstat/chapternotes/7supplement.html\n",
    "#### https://online.stat.psu.edu/stat414/lesson/14/14.1\n",
    "\n",
    "#### Books/Papers etc\n",
    "#### https://www.colorado.edu/amath/sites/default/files/attached-files/ch3_0.pdf"
   ]
  },
  {
   "cell_type": "code",
   "execution_count": null,
   "metadata": {},
   "outputs": [],
   "source": []
  }
 ],
 "metadata": {
  "colab": {
   "name": "ET5003_Etivity2_template.ipynb",
   "provenance": []
  },
  "kernelspec": {
   "display_name": "Python 3 (ipykernel)",
   "language": "python",
   "name": "python3"
  },
  "language_info": {
   "codemirror_mode": {
    "name": "ipython",
    "version": 3
   },
   "file_extension": ".py",
   "mimetype": "text/x-python",
   "name": "python",
   "nbconvert_exporter": "python",
   "pygments_lexer": "ipython3",
   "version": "3.8.10"
  }
 },
 "nbformat": 4,
 "nbformat_minor": 1
}
